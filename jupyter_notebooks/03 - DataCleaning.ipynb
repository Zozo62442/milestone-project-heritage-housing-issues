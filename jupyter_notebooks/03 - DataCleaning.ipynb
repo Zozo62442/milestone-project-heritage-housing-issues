{
 "cells": [
  {
   "cell_type": "markdown",
   "id": "1b94e4d2",
   "metadata": {},
   "source": [
    "# **Data Cleaning**"
   ]
  },
  {
   "cell_type": "markdown",
   "id": "2fc9e2e0",
   "metadata": {},
   "source": [
    "## Objectives\n",
    "\n",
    "* Prepare the dataset for ML by:\n",
    "  * Assessing and handling missing data.\n",
    "  * Removing irrelevant or problematic features.\n",
    "  * Ensuring consistency in data types.\n",
    "  * Saving clean datasets for training and testing.\n",
    "\n",
    "## Inputs\n",
    "\n",
    "* `outputs/datasets/cleaned/df_main_for_cleaning.csv`: output from the EDA notebook, ready for cleaning.\n",
    "\n",
    "## Outputs\n",
    "\n",
    "* `outputs/datasets/cleaned/TrainSetCleaned.csv`: cleaned training dataset.\n",
    "* `outputs/datasets/cleaned/TestSetCleaned.csv`: cleaned test dataset.\n",
    "\n",
    "## Additional Comments\n",
    "\n",
    "* This notebook focuses solely on the cleaned house records (`df_main`).  \n",
    "* `inherited_houses.csv` is kept separate and will be used later for prediction once the model is trained.  "
   ]
  },
  {
   "cell_type": "markdown",
   "id": "c383ade3",
   "metadata": {},
   "source": [
    "---"
   ]
  },
  {
   "cell_type": "markdown",
   "id": "1348d660",
   "metadata": {},
   "source": [
    "# Change Working Directory"
   ]
  },
  {
   "cell_type": "code",
   "execution_count": null,
   "id": "2f835da1",
   "metadata": {},
   "outputs": [],
   "source": [
    "import os\n",
    "current_dir = os.getcwd()\n",
    "current_dir"
   ]
  },
  {
   "cell_type": "code",
   "execution_count": null,
   "id": "c7655fc1",
   "metadata": {},
   "outputs": [],
   "source": [
    "os.chdir(os.path.dirname(current_dir))\n",
    "print(\"You set a new current directory\")"
   ]
  },
  {
   "cell_type": "code",
   "execution_count": null,
   "id": "88d32ad0",
   "metadata": {},
   "outputs": [],
   "source": [
    "current_dir = os.getcwd()\n",
    "current_dir"
   ]
  },
  {
   "cell_type": "markdown",
   "id": "a35018d5",
   "metadata": {},
   "source": [
    "---"
   ]
  },
  {
   "cell_type": "markdown",
   "id": "b417c058",
   "metadata": {},
   "source": [
    "# Load Collected data"
   ]
  },
  {
   "cell_type": "code",
   "execution_count": null,
   "id": "f8bb7cfc",
   "metadata": {},
   "outputs": [],
   "source": [
    "import pandas as pd\n",
    "\n",
    "# Load the dataset prepared during EDA\n",
    "file_path = \"outputs/datasets/cleaned/df_main_for_cleaning.csv\"\n",
    "df = pd.read_csv(file_path)\n",
    "print(f\"✅ Loaded dataset with shape: {df.shape}\")\n",
    "df.head()"
   ]
  }
 ],
 "metadata": {
  "language_info": {
   "name": "python"
  }
 },
 "nbformat": 4,
 "nbformat_minor": 5
}
