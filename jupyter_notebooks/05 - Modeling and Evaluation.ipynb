{
  "cells": [
    {
      "cell_type": "markdown",
      "metadata": {
        "id": "0aStgWSO0E0E"
      },
      "source": [
        "# Regression"
      ]
    },
    {
      "cell_type": "markdown",
      "metadata": {
        "id": "1eLEkw5O0ECa"
      },
      "source": [
        "## Objectives\n",
        "\n",
        "* To build and evaluate predictive models that accurately estimate house sale prices in Ames, Iowa, helping Lydia Doe make informed pricing decisions for her inherited properties.\n",
        "\n",
        "\n",
        "## Inputs\n",
        "\n",
        "* outputs/datasets/cleaned/house_prices_cleaned.csv\n",
        "* Target variable: `SalePrice`\n",
        "\n",
        "## Outputs\n",
        "\n",
        "* Trained regression models\n",
        "* Model evaluation metrics (R², MAE, RMSE)\n",
        "* Actual vs Predicted visualizations\n",
        "* Best-performing saved model\n",
        "\n"
      ]
    },
    {
      "cell_type": "markdown",
      "metadata": {
        "id": "9uWZXH9LwoQg"
      },
      "source": [
        "---"
      ]
    },
    {
      "cell_type": "markdown",
      "metadata": {},
      "source": [
        "# Change working directory"
      ]
    },
    {
      "cell_type": "code",
      "execution_count": 95,
      "metadata": {},
      "outputs": [
        {
          "name": "stdout",
          "output_type": "stream",
          "text": [
            "Current working directory set to:\n",
            "/workspaces/milestone-project-heritage-housing-issues\n"
          ]
        }
      ],
      "source": [
        "import os \n",
        "\n",
        "project_root = \"/workspaces/milestone-project-heritage-housing-issues\"\n",
        "os.chdir(project_root)\n",
        "\n",
        "print(\"Current working directory set to:\")\n",
        "print(os.getcwd())"
      ]
    },
    {
      "cell_type": "markdown",
      "metadata": {
        "id": "pXKlJFX0iuM5"
      },
      "source": [
        "---"
      ]
    },
    {
      "cell_type": "markdown",
      "metadata": {
        "id": "-mavJ8DibrcQ"
      },
      "source": [
        "# Load Data"
      ]
    },
    {
      "cell_type": "code",
      "execution_count": 96,
      "metadata": {
        "id": "Xk7DU_ekbtX8"
      },
      "outputs": [
        {
          "name": "stdout",
          "output_type": "stream",
          "text": [
            "(1460, 22)\n"
          ]
        },
        {
          "data": {
            "text/html": [
              "<div>\n",
              "<style scoped>\n",
              "    .dataframe tbody tr th:only-of-type {\n",
              "        vertical-align: middle;\n",
              "    }\n",
              "\n",
              "    .dataframe tbody tr th {\n",
              "        vertical-align: top;\n",
              "    }\n",
              "\n",
              "    .dataframe thead th {\n",
              "        text-align: right;\n",
              "    }\n",
              "</style>\n",
              "<table border=\"1\" class=\"dataframe\">\n",
              "  <thead>\n",
              "    <tr style=\"text-align: right;\">\n",
              "      <th></th>\n",
              "      <th>1stFlrSF</th>\n",
              "      <th>2ndFlrSF</th>\n",
              "      <th>BedroomAbvGr</th>\n",
              "      <th>BsmtExposure</th>\n",
              "      <th>BsmtFinSF1</th>\n",
              "      <th>BsmtFinType1</th>\n",
              "      <th>BsmtUnfSF</th>\n",
              "      <th>GarageArea</th>\n",
              "      <th>GarageFinish</th>\n",
              "      <th>GarageYrBlt</th>\n",
              "      <th>...</th>\n",
              "      <th>LotArea</th>\n",
              "      <th>LotFrontage</th>\n",
              "      <th>MasVnrArea</th>\n",
              "      <th>OpenPorchSF</th>\n",
              "      <th>OverallCond</th>\n",
              "      <th>OverallQual</th>\n",
              "      <th>TotalBsmtSF</th>\n",
              "      <th>YearBuilt</th>\n",
              "      <th>YearRemodAdd</th>\n",
              "      <th>SalePrice</th>\n",
              "    </tr>\n",
              "  </thead>\n",
              "  <tbody>\n",
              "    <tr>\n",
              "      <th>0</th>\n",
              "      <td>856</td>\n",
              "      <td>854.0</td>\n",
              "      <td>3.0</td>\n",
              "      <td>No</td>\n",
              "      <td>706</td>\n",
              "      <td>GLQ</td>\n",
              "      <td>150</td>\n",
              "      <td>548</td>\n",
              "      <td>RFn</td>\n",
              "      <td>2003.0</td>\n",
              "      <td>...</td>\n",
              "      <td>8450</td>\n",
              "      <td>65.0</td>\n",
              "      <td>196.0</td>\n",
              "      <td>61</td>\n",
              "      <td>5</td>\n",
              "      <td>7</td>\n",
              "      <td>856</td>\n",
              "      <td>2003</td>\n",
              "      <td>2003</td>\n",
              "      <td>208500</td>\n",
              "    </tr>\n",
              "    <tr>\n",
              "      <th>1</th>\n",
              "      <td>1262</td>\n",
              "      <td>0.0</td>\n",
              "      <td>3.0</td>\n",
              "      <td>Gd</td>\n",
              "      <td>978</td>\n",
              "      <td>ALQ</td>\n",
              "      <td>284</td>\n",
              "      <td>460</td>\n",
              "      <td>RFn</td>\n",
              "      <td>1976.0</td>\n",
              "      <td>...</td>\n",
              "      <td>9600</td>\n",
              "      <td>80.0</td>\n",
              "      <td>0.0</td>\n",
              "      <td>0</td>\n",
              "      <td>8</td>\n",
              "      <td>6</td>\n",
              "      <td>1262</td>\n",
              "      <td>1976</td>\n",
              "      <td>1976</td>\n",
              "      <td>181500</td>\n",
              "    </tr>\n",
              "    <tr>\n",
              "      <th>2</th>\n",
              "      <td>920</td>\n",
              "      <td>866.0</td>\n",
              "      <td>3.0</td>\n",
              "      <td>Mn</td>\n",
              "      <td>486</td>\n",
              "      <td>GLQ</td>\n",
              "      <td>434</td>\n",
              "      <td>608</td>\n",
              "      <td>RFn</td>\n",
              "      <td>2001.0</td>\n",
              "      <td>...</td>\n",
              "      <td>11250</td>\n",
              "      <td>68.0</td>\n",
              "      <td>162.0</td>\n",
              "      <td>42</td>\n",
              "      <td>5</td>\n",
              "      <td>7</td>\n",
              "      <td>920</td>\n",
              "      <td>2001</td>\n",
              "      <td>2002</td>\n",
              "      <td>223500</td>\n",
              "    </tr>\n",
              "  </tbody>\n",
              "</table>\n",
              "<p>3 rows × 22 columns</p>\n",
              "</div>"
            ],
            "text/plain": [
              "   1stFlrSF  2ndFlrSF  BedroomAbvGr BsmtExposure  BsmtFinSF1 BsmtFinType1  \\\n",
              "0       856     854.0           3.0           No         706          GLQ   \n",
              "1      1262       0.0           3.0           Gd         978          ALQ   \n",
              "2       920     866.0           3.0           Mn         486          GLQ   \n",
              "\n",
              "   BsmtUnfSF  GarageArea GarageFinish  GarageYrBlt  ...  LotArea LotFrontage  \\\n",
              "0        150         548          RFn       2003.0  ...     8450        65.0   \n",
              "1        284         460          RFn       1976.0  ...     9600        80.0   \n",
              "2        434         608          RFn       2001.0  ...    11250        68.0   \n",
              "\n",
              "   MasVnrArea  OpenPorchSF  OverallCond  OverallQual  TotalBsmtSF  YearBuilt  \\\n",
              "0       196.0           61            5            7          856       2003   \n",
              "1         0.0            0            8            6         1262       1976   \n",
              "2       162.0           42            5            7          920       2001   \n",
              "\n",
              "   YearRemodAdd  SalePrice  \n",
              "0          2003     208500  \n",
              "1          1976     181500  \n",
              "2          2002     223500  \n",
              "\n",
              "[3 rows x 22 columns]"
            ]
          },
          "execution_count": 96,
          "metadata": {},
          "output_type": "execute_result"
        }
      ],
      "source": [
        "import numpy as np\n",
        "import pandas as pd\n",
        "df = (pd.read_csv(\"outputs/datasets/cleaned/house_prices_cleaned.csv\")\n",
        "      .drop(labels=['EnclosedPorch', 'WoodDeckSF'], axis=1)\n",
        "      # variables we will not need for this project\n",
        "      )\n",
        "\n",
        "print(df.shape)\n",
        "df.head(3)\n"
      ]
    },
    {
      "cell_type": "markdown",
      "metadata": {},
      "source": [
        "## Import Required Libraries"
      ]
    },
    {
      "cell_type": "code",
      "execution_count": 97,
      "metadata": {},
      "outputs": [],
      "source": [
        "import pandas as pd\n",
        "import numpy as np\n",
        "import matplotlib.pyplot as plt\n",
        "import seaborn as sns\n",
        "\n",
        "from sklearn.model_selection import train_test_split\n",
        "from sklearn.linear_model import LinearRegression\n",
        "from sklearn.ensemble import RandomForestRegressor\n",
        "from sklearn.metrics import r2_score, mean_absolute_error, mean_squared_error\n",
        "import joblib"
      ]
    },
    {
      "cell_type": "markdown",
      "metadata": {
        "id": "krjAk78Tbyhv"
      },
      "source": [
        "# MP Pipeline: Regressor"
      ]
    },
    {
      "cell_type": "markdown",
      "metadata": {},
      "source": [
        "## Create ML pipeline"
      ]
    },
    {
      "cell_type": "code",
      "execution_count": 240,
      "metadata": {
        "id": "C6keis6ao8LA"
      },
      "outputs": [],
      "source": [
        "from sklearn.pipeline import Pipeline\n",
        "from sklearn.model_selection import GridSearchCV\n",
        "import pandas as pd\n",
        "import numpy as np\n",
        "\n",
        "# Feature Engineering\n",
        "from feature_engine.encoding import OrdinalEncoder\n",
        "from feature_engine.selection import SmartCorrelatedSelection\n",
        "\n",
        "# Feat Scaling\n",
        "from sklearn.preprocessing import StandardScaler\n",
        "\n",
        "# Feat Selection\n",
        "from sklearn.feature_selection import SelectFromModel\n",
        "\n",
        "\n",
        "def PipelineOptimization(model):\n",
        "    pipeline_base = Pipeline([\n",
        "\n",
        "        (\"OrdinalCategoricalEncoder\", OrdinalEncoder(encoding_method='arbitrary',\n",
        "                                                     variables=['BsmtExposure', 'BsmtFinType1', 'GarageFinish', 'KitchenQual'])),\n",
        "\n",
        "        (\"SmartCorrelatedSelection\", SmartCorrelatedSelection(variables=None,\n",
        "         method=\"spearman\", threshold=0.6, selection_method=\"variance\")),\n",
        "\n",
        "        (\"feat_scaling\", StandardScaler()),\n",
        "\n",
        "        (\"feat_selection\",  SelectFromModel(model)),\n",
        "\n",
        "        (\"model\", model),\n",
        "\n",
        "    ])\n",
        "\n",
        "    return pipeline_base\n",
        "\n",
        "# Custom Class for hyperparameter optimisation\n",
        "\n",
        "class HyperparameterOptimizationSearch:\n",
        "\n",
        "    def __init__(self, models, params):\n",
        "        self.models = models\n",
        "        self.params = params\n",
        "        self.keys = models.keys()\n",
        "        self.grid_searches = {}\n",
        "\n",
        "    def fit(self, X, y, cv, n_jobs, verbose=1, scoring=None, refit=False):\n",
        "        for key in self.keys:\n",
        "            print(f\"\\nRunning GridSearchCV for {key} \\n\")\n",
        "            model = PipelineOptimization(self.models[key])\n",
        "\n",
        "            params = self.params[key]\n",
        "            gs = GridSearchCV(model, params, cv=cv, n_jobs=n_jobs,\n",
        "                              verbose=verbose, scoring=scoring)\n",
        "            gs.fit(X, y)\n",
        "            self.grid_searches[key] = gs\n",
        "\n",
        "    def score_summary(self, sort_by='mean_score'):\n",
        "        def row(key, scores, params):\n",
        "            d = {\n",
        "                'estimator': key,\n",
        "                'min_score': min(scores),\n",
        "                'max_score': max(scores),\n",
        "                'mean_score': np.mean(scores),\n",
        "                'std_score': np.std(scores),\n",
        "            }\n",
        "            return pd.Series({**params, **d})\n",
        "\n",
        "        rows = []\n",
        "        for k in self.grid_searches:\n",
        "            params = self.grid_searches[k].cv_results_['params']\n",
        "            scores = []\n",
        "            for i in range(self.grid_searches[k].cv):\n",
        "                key = \"split{}_test_score\".format(i)\n",
        "                r = self.grid_searches[k].cv_results_[key]\n",
        "                scores.append(r.reshape(len(params), 1))\n",
        "\n",
        "            all_scores = np.hstack(scores)\n",
        "            for p, s in zip(params, all_scores):\n",
        "                rows.append((row(k, s, p)))\n",
        "\n",
        "        df = pd.concat(rows, axis=1).T.sort_values([sort_by], ascending=False)\n",
        "\n",
        "        columns = ['estimator', 'min_score',\n",
        "                   'mean_score', 'max_score', 'std_score']\n",
        "        columns = columns + [c for c in df.columns if c not in columns]\n",
        "\n",
        "        return df[columns], self.grid_searches\n",
        "\n"
      ]
    },
    {
      "cell_type": "markdown",
      "metadata": {
        "id": "LD6B3CuhiDMT"
      },
      "source": [
        "## Split Train Test Set"
      ]
    },
    {
      "cell_type": "code",
      "execution_count": 241,
      "metadata": {
        "id": "-pFzP2iGiIk1"
      },
      "outputs": [
        {
          "name": "stdout",
          "output_type": "stream",
          "text": [
            "* Train set: (1168, 21) (1168,) \n",
            "* Test set: (292, 21) (292,)\n"
          ]
        }
      ],
      "source": [
        "from sklearn.model_selection import train_test_split\n",
        "X_train, X_test, y_train, y_test = train_test_split(\n",
        "    df.drop(['SalePrice'], axis=1),\n",
        "    df['SalePrice'],\n",
        "    test_size=0.2,\n",
        "    random_state=0\n",
        ")\n",
        "\n",
        "print(\"* Train set:\", X_train.shape, y_train.shape,\n",
        "      \"\\n* Test set:\",  X_test.shape, y_test.shape)\n"
      ]
    },
    {
      "cell_type": "markdown",
      "metadata": {
        "id": "-15-sWUST6XX"
      },
      "source": [
        "## Grid Search CV - Sklearn"
      ]
    },
    {
      "cell_type": "markdown",
      "metadata": {
        "id": "KTFXq-ieogBj"
      },
      "source": [
        "### Use default hyperparameters to find most suitable algorithm"
      ]
    },
    {
      "cell_type": "code",
      "execution_count": 242,
      "metadata": {
        "id": "XZKV86gsPw8c"
      },
      "outputs": [],
      "source": [
        "# ML algorithms\n",
        "from sklearn.tree import DecisionTreeRegressor\n",
        "from xgboost import XGBRegressor\n",
        "from sklearn.ensemble import GradientBoostingRegressor, RandomForestRegressor\n",
        "from sklearn.linear_model import LinearRegression\n",
        "from sklearn.ensemble import AdaBoostRegressor\n",
        "from sklearn.ensemble import ExtraTreesRegressor\n",
        "\n",
        "models_quick_search = {\n",
        "    'LinearRegression': LinearRegression(),\n",
        "    \"DecisionTreeRegressor\": DecisionTreeRegressor(random_state=0),\n",
        "    \"RandomForestRegressor\": RandomForestRegressor(random_state=0),\n",
        "    \"ExtraTreesRegressor\": ExtraTreesRegressor(random_state=0),\n",
        "    \"AdaBoostRegressor\": AdaBoostRegressor(random_state=0),\n",
        "    \"GradientBoostingRegressor\": GradientBoostingRegressor(random_state=0),\n",
        "    \"XGBRegressor\": XGBRegressor(random_state=0),\n",
        "}\n",
        "\n",
        "params_quick_search = {\n",
        "    'LinearRegression': {},\n",
        "    \"DecisionTreeRegressor\": {},\n",
        "    \"RandomForestRegressor\": {},\n",
        "    \"ExtraTreesRegressor\": {},\n",
        "    \"AdaBoostRegressor\": {},\n",
        "    \"GradientBoostingRegressor\": {},\n",
        "    \"XGBRegressor\": {},\n",
        "}"
      ]
    },
    {
      "cell_type": "markdown",
      "metadata": {
        "id": "jGABtSoSLP9u"
      },
      "source": [
        "Do a hyperparameter optimisation search using default hyperparameters"
      ]
    },
    {
      "cell_type": "code",
      "execution_count": 243,
      "metadata": {
        "id": "-_q-ru92GiBb"
      },
      "outputs": [
        {
          "name": "stdout",
          "output_type": "stream",
          "text": [
            "\n",
            "Running GridSearchCV for LinearRegression \n",
            "\n",
            "Fitting 5 folds for each of 1 candidates, totalling 5 fits\n",
            "\n",
            "Running GridSearchCV for DecisionTreeRegressor \n",
            "\n",
            "Fitting 5 folds for each of 1 candidates, totalling 5 fits\n",
            "\n",
            "Running GridSearchCV for RandomForestRegressor \n",
            "\n",
            "Fitting 5 folds for each of 1 candidates, totalling 5 fits\n",
            "\n",
            "Running GridSearchCV for ExtraTreesRegressor \n",
            "\n",
            "Fitting 5 folds for each of 1 candidates, totalling 5 fits\n",
            "\n",
            "Running GridSearchCV for AdaBoostRegressor \n",
            "\n",
            "Fitting 5 folds for each of 1 candidates, totalling 5 fits\n",
            "\n",
            "Running GridSearchCV for GradientBoostingRegressor \n",
            "\n",
            "Fitting 5 folds for each of 1 candidates, totalling 5 fits\n",
            "\n",
            "Running GridSearchCV for XGBRegressor \n",
            "\n",
            "Fitting 5 folds for each of 1 candidates, totalling 5 fits\n"
          ]
        }
      ],
      "source": [
        "search = HyperparameterOptimizationSearch(models=models_quick_search, params=params_quick_search)\n",
        "search.fit(X_train, y_train, scoring='r2', n_jobs=-1, cv=5)"
      ]
    },
    {
      "cell_type": "markdown",
      "metadata": {
        "id": "c7p56nXeoqWo"
      },
      "source": [
        "Check results"
      ]
    },
    {
      "cell_type": "code",
      "execution_count": 244,
      "metadata": {
        "id": "mq4YlrmZooiw"
      },
      "outputs": [
        {
          "data": {
            "text/html": [
              "<div>\n",
              "<style scoped>\n",
              "    .dataframe tbody tr th:only-of-type {\n",
              "        vertical-align: middle;\n",
              "    }\n",
              "\n",
              "    .dataframe tbody tr th {\n",
              "        vertical-align: top;\n",
              "    }\n",
              "\n",
              "    .dataframe thead th {\n",
              "        text-align: right;\n",
              "    }\n",
              "</style>\n",
              "<table border=\"1\" class=\"dataframe\">\n",
              "  <thead>\n",
              "    <tr style=\"text-align: right;\">\n",
              "      <th></th>\n",
              "      <th>estimator</th>\n",
              "      <th>min_score</th>\n",
              "      <th>mean_score</th>\n",
              "      <th>max_score</th>\n",
              "      <th>std_score</th>\n",
              "    </tr>\n",
              "  </thead>\n",
              "  <tbody>\n",
              "    <tr>\n",
              "      <th>3</th>\n",
              "      <td>ExtraTreesRegressor</td>\n",
              "      <td>0.672712</td>\n",
              "      <td>0.804695</td>\n",
              "      <td>0.874444</td>\n",
              "      <td>0.07442</td>\n",
              "    </tr>\n",
              "    <tr>\n",
              "      <th>2</th>\n",
              "      <td>RandomForestRegressor</td>\n",
              "      <td>0.632989</td>\n",
              "      <td>0.785848</td>\n",
              "      <td>0.85964</td>\n",
              "      <td>0.08142</td>\n",
              "    </tr>\n",
              "    <tr>\n",
              "      <th>0</th>\n",
              "      <td>LinearRegression</td>\n",
              "      <td>0.700438</td>\n",
              "      <td>0.783795</td>\n",
              "      <td>0.819273</td>\n",
              "      <td>0.044047</td>\n",
              "    </tr>\n",
              "    <tr>\n",
              "      <th>5</th>\n",
              "      <td>GradientBoostingRegressor</td>\n",
              "      <td>0.635656</td>\n",
              "      <td>0.754929</td>\n",
              "      <td>0.850056</td>\n",
              "      <td>0.085652</td>\n",
              "    </tr>\n",
              "    <tr>\n",
              "      <th>4</th>\n",
              "      <td>AdaBoostRegressor</td>\n",
              "      <td>0.621051</td>\n",
              "      <td>0.727258</td>\n",
              "      <td>0.794948</td>\n",
              "      <td>0.066443</td>\n",
              "    </tr>\n",
              "    <tr>\n",
              "      <th>6</th>\n",
              "      <td>XGBRegressor</td>\n",
              "      <td>0.516199</td>\n",
              "      <td>0.711484</td>\n",
              "      <td>0.828932</td>\n",
              "      <td>0.112389</td>\n",
              "    </tr>\n",
              "    <tr>\n",
              "      <th>1</th>\n",
              "      <td>DecisionTreeRegressor</td>\n",
              "      <td>0.495511</td>\n",
              "      <td>0.63295</td>\n",
              "      <td>0.726995</td>\n",
              "      <td>0.077708</td>\n",
              "    </tr>\n",
              "  </tbody>\n",
              "</table>\n",
              "</div>"
            ],
            "text/plain": [
              "                   estimator min_score mean_score max_score std_score\n",
              "3        ExtraTreesRegressor  0.672712   0.804695  0.874444   0.07442\n",
              "2      RandomForestRegressor  0.632989   0.785848   0.85964   0.08142\n",
              "0           LinearRegression  0.700438   0.783795  0.819273  0.044047\n",
              "5  GradientBoostingRegressor  0.635656   0.754929  0.850056  0.085652\n",
              "4          AdaBoostRegressor  0.621051   0.727258  0.794948  0.066443\n",
              "6               XGBRegressor  0.516199   0.711484  0.828932  0.112389\n",
              "1      DecisionTreeRegressor  0.495511    0.63295  0.726995  0.077708"
            ]
          },
          "execution_count": 244,
          "metadata": {},
          "output_type": "execute_result"
        }
      ],
      "source": [
        "grid_search_summary, grid_search_pipelines = search.score_summary(sort_by='mean_score')\n",
        "grid_search_summary"
      ]
    },
    {
      "cell_type": "markdown",
      "metadata": {},
      "source": [
        "Best one seems to be ExtraTreesRegressor as it has the highest mean score and max score. It also has reasonable stability (std dev ~0.07). \n",
        "\n",
        "We will proceed with this one."
      ]
    },
    {
      "cell_type": "markdown",
      "metadata": {
        "id": "6pRUAeoG9lrZ"
      },
      "source": [
        "### Do an extensive search on the most suitable model to find the best hyperparameter configuration."
      ]
    },
    {
      "cell_type": "markdown",
      "metadata": {
        "id": "w2XCyOYkAYpZ"
      },
      "source": [
        "Define model and parameters, for Extensive Search"
      ]
    },
    {
      "cell_type": "code",
      "execution_count": null,
      "metadata": {
        "id": "lyjC7ThFAYKY"
      },
      "outputs": [
        {
          "ename": "KeyboardInterrupt",
          "evalue": "",
          "output_type": "error",
          "traceback": [
            "\u001b[0;31m---------------------------------------------------------------------------\u001b[0m",
            "\u001b[0;31mKeyboardInterrupt\u001b[0m                         Traceback (most recent call last)",
            "Cell \u001b[0;32mIn[1], line 1\u001b[0m\n\u001b[0;32m----> 1\u001b[0m \u001b[38;5;28;01mfrom\u001b[39;00m \u001b[38;5;21;01msklearn\u001b[39;00m\u001b[38;5;21;01m.\u001b[39;00m\u001b[38;5;21;01mensemble\u001b[39;00m \u001b[38;5;28;01mimport\u001b[39;00m ExtraTreesRegressor\n\u001b[1;32m      3\u001b[0m models_search \u001b[38;5;241m=\u001b[39m {\n\u001b[1;32m      4\u001b[0m     \u001b[38;5;124m\"\u001b[39m\u001b[38;5;124mExtraTreesRegressor\u001b[39m\u001b[38;5;124m\"\u001b[39m: ExtraTreesRegressor(random_state\u001b[38;5;241m=\u001b[39m\u001b[38;5;241m0\u001b[39m),\n\u001b[1;32m      5\u001b[0m }\n\u001b[1;32m      7\u001b[0m params_search \u001b[38;5;241m=\u001b[39m {\n\u001b[1;32m      8\u001b[0m     \u001b[38;5;124m\"\u001b[39m\u001b[38;5;124mExtraTreesRegressor\u001b[39m\u001b[38;5;124m\"\u001b[39m: {\n\u001b[1;32m      9\u001b[0m         \u001b[38;5;124m'\u001b[39m\u001b[38;5;124mmodel__n_estimators\u001b[39m\u001b[38;5;124m'\u001b[39m: [\u001b[38;5;241m100\u001b[39m, \u001b[38;5;241m300\u001b[39m],\n\u001b[0;32m   (...)\u001b[0m\n\u001b[1;32m     14\u001b[0m     }\n\u001b[1;32m     15\u001b[0m }\n",
            "File \u001b[0;32m~/.local/lib/python3.12/site-packages/sklearn/__init__.py:83\u001b[0m\n\u001b[1;32m     69\u001b[0m     \u001b[38;5;66;03m# We are not importing the rest of scikit-learn during the build\u001b[39;00m\n\u001b[1;32m     70\u001b[0m     \u001b[38;5;66;03m# process, as it may not be compiled yet\u001b[39;00m\n\u001b[1;32m     71\u001b[0m \u001b[38;5;28;01melse\u001b[39;00m:\n\u001b[0;32m   (...)\u001b[0m\n\u001b[1;32m     77\u001b[0m     \u001b[38;5;66;03m# later is linked to the OpenMP runtime to make it possible to introspect\u001b[39;00m\n\u001b[1;32m     78\u001b[0m     \u001b[38;5;66;03m# it and importing it first would fail if the OpenMP dll cannot be found.\u001b[39;00m\n\u001b[1;32m     79\u001b[0m     \u001b[38;5;28;01mfrom\u001b[39;00m \u001b[38;5;21;01m.\u001b[39;00m \u001b[38;5;28;01mimport\u001b[39;00m (\n\u001b[1;32m     80\u001b[0m         __check_build,  \u001b[38;5;66;03m# noqa: F401\u001b[39;00m\n\u001b[1;32m     81\u001b[0m         _distributor_init,  \u001b[38;5;66;03m# noqa: F401\u001b[39;00m\n\u001b[1;32m     82\u001b[0m     )\n\u001b[0;32m---> 83\u001b[0m     \u001b[38;5;28;01mfrom\u001b[39;00m \u001b[38;5;21;01m.\u001b[39;00m\u001b[38;5;21;01mbase\u001b[39;00m \u001b[38;5;28;01mimport\u001b[39;00m clone\n\u001b[1;32m     84\u001b[0m     \u001b[38;5;28;01mfrom\u001b[39;00m \u001b[38;5;21;01m.\u001b[39;00m\u001b[38;5;21;01mutils\u001b[39;00m\u001b[38;5;21;01m.\u001b[39;00m\u001b[38;5;21;01m_show_versions\u001b[39;00m \u001b[38;5;28;01mimport\u001b[39;00m show_versions\n\u001b[1;32m     86\u001b[0m     __all__ \u001b[38;5;241m=\u001b[39m [\n\u001b[1;32m     87\u001b[0m         \u001b[38;5;124m\"\u001b[39m\u001b[38;5;124mcalibration\u001b[39m\u001b[38;5;124m\"\u001b[39m,\n\u001b[1;32m     88\u001b[0m         \u001b[38;5;124m\"\u001b[39m\u001b[38;5;124mcluster\u001b[39m\u001b[38;5;124m\"\u001b[39m,\n\u001b[0;32m   (...)\u001b[0m\n\u001b[1;32m    129\u001b[0m         \u001b[38;5;124m\"\u001b[39m\u001b[38;5;124mshow_versions\u001b[39m\u001b[38;5;124m\"\u001b[39m,\n\u001b[1;32m    130\u001b[0m     ]\n",
            "File \u001b[0;32m~/.local/lib/python3.12/site-packages/sklearn/base.py:19\u001b[0m\n\u001b[1;32m     17\u001b[0m \u001b[38;5;28;01mfrom\u001b[39;00m \u001b[38;5;21;01m.\u001b[39;00m\u001b[38;5;21;01m_config\u001b[39;00m \u001b[38;5;28;01mimport\u001b[39;00m config_context, get_config\n\u001b[1;32m     18\u001b[0m \u001b[38;5;28;01mfrom\u001b[39;00m \u001b[38;5;21;01m.\u001b[39;00m\u001b[38;5;21;01mexceptions\u001b[39;00m \u001b[38;5;28;01mimport\u001b[39;00m InconsistentVersionWarning\n\u001b[0;32m---> 19\u001b[0m \u001b[38;5;28;01mfrom\u001b[39;00m \u001b[38;5;21;01m.\u001b[39;00m\u001b[38;5;21;01mutils\u001b[39;00m \u001b[38;5;28;01mimport\u001b[39;00m _IS_32BIT\n\u001b[1;32m     20\u001b[0m \u001b[38;5;28;01mfrom\u001b[39;00m \u001b[38;5;21;01m.\u001b[39;00m\u001b[38;5;21;01mutils\u001b[39;00m\u001b[38;5;21;01m.\u001b[39;00m\u001b[38;5;21;01m_estimator_html_repr\u001b[39;00m \u001b[38;5;28;01mimport\u001b[39;00m estimator_html_repr\n\u001b[1;32m     21\u001b[0m \u001b[38;5;28;01mfrom\u001b[39;00m \u001b[38;5;21;01m.\u001b[39;00m\u001b[38;5;21;01mutils\u001b[39;00m\u001b[38;5;21;01m.\u001b[39;00m\u001b[38;5;21;01m_metadata_requests\u001b[39;00m \u001b[38;5;28;01mimport\u001b[39;00m _MetadataRequester\n",
            "File \u001b[0;32m~/.local/lib/python3.12/site-packages/sklearn/utils/__init__.py:15\u001b[0m\n\u001b[1;32m     12\u001b[0m \u001b[38;5;28;01mfrom\u001b[39;00m \u001b[38;5;21;01mitertools\u001b[39;00m \u001b[38;5;28;01mimport\u001b[39;00m compress, islice\n\u001b[1;32m     14\u001b[0m \u001b[38;5;28;01mimport\u001b[39;00m \u001b[38;5;21;01mnumpy\u001b[39;00m \u001b[38;5;28;01mas\u001b[39;00m \u001b[38;5;21;01mnp\u001b[39;00m\n\u001b[0;32m---> 15\u001b[0m \u001b[38;5;28;01mfrom\u001b[39;00m \u001b[38;5;21;01mscipy\u001b[39;00m\u001b[38;5;21;01m.\u001b[39;00m\u001b[38;5;21;01msparse\u001b[39;00m \u001b[38;5;28;01mimport\u001b[39;00m issparse\n\u001b[1;32m     17\u001b[0m \u001b[38;5;28;01mfrom\u001b[39;00m \u001b[38;5;21;01m.\u001b[39;00m\u001b[38;5;21;01m.\u001b[39;00m \u001b[38;5;28;01mimport\u001b[39;00m get_config\n\u001b[1;32m     18\u001b[0m \u001b[38;5;28;01mfrom\u001b[39;00m \u001b[38;5;21;01m.\u001b[39;00m\u001b[38;5;21;01m.\u001b[39;00m\u001b[38;5;21;01mexceptions\u001b[39;00m \u001b[38;5;28;01mimport\u001b[39;00m DataConversionWarning\n",
            "File \u001b[0;32m~/.local/lib/python3.12/site-packages/scipy/sparse/__init__.py:295\u001b[0m\n\u001b[1;32m    292\u001b[0m \u001b[38;5;28;01mimport\u001b[39;00m \u001b[38;5;21;01mwarnings\u001b[39;00m \u001b[38;5;28;01mas\u001b[39;00m \u001b[38;5;21;01m_warnings\u001b[39;00m\n\u001b[1;32m    294\u001b[0m \u001b[38;5;28;01mfrom\u001b[39;00m \u001b[38;5;21;01m.\u001b[39;00m\u001b[38;5;21;01m_base\u001b[39;00m \u001b[38;5;28;01mimport\u001b[39;00m \u001b[38;5;241m*\u001b[39m\n\u001b[0;32m--> 295\u001b[0m \u001b[38;5;28;01mfrom\u001b[39;00m \u001b[38;5;21;01m.\u001b[39;00m\u001b[38;5;21;01m_csr\u001b[39;00m \u001b[38;5;28;01mimport\u001b[39;00m \u001b[38;5;241m*\u001b[39m\n\u001b[1;32m    296\u001b[0m \u001b[38;5;28;01mfrom\u001b[39;00m \u001b[38;5;21;01m.\u001b[39;00m\u001b[38;5;21;01m_csc\u001b[39;00m \u001b[38;5;28;01mimport\u001b[39;00m \u001b[38;5;241m*\u001b[39m\n\u001b[1;32m    297\u001b[0m \u001b[38;5;28;01mfrom\u001b[39;00m \u001b[38;5;21;01m.\u001b[39;00m\u001b[38;5;21;01m_lil\u001b[39;00m \u001b[38;5;28;01mimport\u001b[39;00m \u001b[38;5;241m*\u001b[39m\n",
            "File \u001b[0;32m~/.local/lib/python3.12/site-packages/scipy/sparse/_csr.py:15\u001b[0m\n\u001b[1;32m     11\u001b[0m \u001b[38;5;28;01mfrom\u001b[39;00m \u001b[38;5;21;01m.\u001b[39;00m\u001b[38;5;21;01m_sparsetools\u001b[39;00m \u001b[38;5;28;01mimport\u001b[39;00m (csr_tocsc, csr_tobsr, csr_count_blocks,\n\u001b[1;32m     12\u001b[0m                            get_csr_submatrix)\n\u001b[1;32m     13\u001b[0m \u001b[38;5;28;01mfrom\u001b[39;00m \u001b[38;5;21;01m.\u001b[39;00m\u001b[38;5;21;01m_sputils\u001b[39;00m \u001b[38;5;28;01mimport\u001b[39;00m upcast\n\u001b[0;32m---> 15\u001b[0m \u001b[38;5;28;01mfrom\u001b[39;00m \u001b[38;5;21;01m.\u001b[39;00m\u001b[38;5;21;01m_compressed\u001b[39;00m \u001b[38;5;28;01mimport\u001b[39;00m _cs_matrix\n\u001b[1;32m     18\u001b[0m \u001b[38;5;28;01mclass\u001b[39;00m \u001b[38;5;21;01m_csr_base\u001b[39;00m(_cs_matrix):\n\u001b[1;32m     19\u001b[0m     _format \u001b[38;5;241m=\u001b[39m \u001b[38;5;124m'\u001b[39m\u001b[38;5;124mcsr\u001b[39m\u001b[38;5;124m'\u001b[39m\n",
            "File \u001b[0;32m<frozen importlib._bootstrap>:1360\u001b[0m, in \u001b[0;36m_find_and_load\u001b[0;34m(name, import_)\u001b[0m\n",
            "File \u001b[0;32m<frozen importlib._bootstrap>:1331\u001b[0m, in \u001b[0;36m_find_and_load_unlocked\u001b[0;34m(name, import_)\u001b[0m\n",
            "File \u001b[0;32m<frozen importlib._bootstrap>:935\u001b[0m, in \u001b[0;36m_load_unlocked\u001b[0;34m(spec)\u001b[0m\n",
            "File \u001b[0;32m<frozen importlib._bootstrap_external>:990\u001b[0m, in \u001b[0;36mexec_module\u001b[0;34m(self, module)\u001b[0m\n",
            "File \u001b[0;32m<frozen importlib._bootstrap_external>:1086\u001b[0m, in \u001b[0;36mget_code\u001b[0;34m(self, fullname)\u001b[0m\n",
            "File \u001b[0;32m<frozen importlib._bootstrap_external>:1186\u001b[0m, in \u001b[0;36mget_data\u001b[0;34m(self, path)\u001b[0m\n",
            "\u001b[0;31mKeyboardInterrupt\u001b[0m: "
          ]
        }
      ],
      "source": [
        "from sklearn.ensemble import ExtraTreesRegressor\n",
        "\n",
        "# for extra information and reference: https://scikit-learn.org/stable/modules/generated/sklearn.ensemble.ExtraTreesRegressor.html\n",
        "\n",
        "models_search = {\n",
        "    \"ExtraTreesRegressor\": ExtraTreesRegressor(random_state=0),\n",
        "}\n",
        "\n",
        "params_search = {\n",
        "    \"ExtraTreesRegressor\": {\n",
        "        'model__n_estimators': [100, 300],\n",
        "        'model__max_depth': [10, None],\n",
        "        'model__min_samples_split': [2, 5],\n",
        "        'model__min_samples_leaf': [1, 2],\n",
        "        'model__max_features': ['sqrt', 0.5]\n",
        "    }\n",
        "}\n"
      ]
    },
    {
      "cell_type": "markdown",
      "metadata": {
        "id": "sBy8thxqAlrd"
      },
      "source": [
        "Extensive GridSearch CV"
      ]
    },
    {
      "cell_type": "code",
      "execution_count": 246,
      "metadata": {
        "id": "Y_4Ob7heAYM9"
      },
      "outputs": [
        {
          "name": "stdout",
          "output_type": "stream",
          "text": [
            "\n",
            "Running GridSearchCV for ExtraTreesRegressor \n",
            "\n",
            "Fitting 5 folds for each of 32 candidates, totalling 160 fits\n"
          ]
        }
      ],
      "source": [
        "search = HyperparameterOptimizationSearch(models=models_search, params=params_search)\n",
        "search.fit(X_train, y_train, scoring = 'r2', n_jobs=-1, cv=5)"
      ]
    },
    {
      "cell_type": "markdown",
      "metadata": {
        "id": "wtNJJpLEAzdP"
      },
      "source": [
        "Check results"
      ]
    },
    {
      "cell_type": "code",
      "execution_count": 247,
      "metadata": {
        "id": "qjauRLNHAYPr"
      },
      "outputs": [
        {
          "data": {
            "text/html": [
              "<div>\n",
              "<style scoped>\n",
              "    .dataframe tbody tr th:only-of-type {\n",
              "        vertical-align: middle;\n",
              "    }\n",
              "\n",
              "    .dataframe tbody tr th {\n",
              "        vertical-align: top;\n",
              "    }\n",
              "\n",
              "    .dataframe thead th {\n",
              "        text-align: right;\n",
              "    }\n",
              "</style>\n",
              "<table border=\"1\" class=\"dataframe\">\n",
              "  <thead>\n",
              "    <tr style=\"text-align: right;\">\n",
              "      <th></th>\n",
              "      <th>estimator</th>\n",
              "      <th>min_score</th>\n",
              "      <th>mean_score</th>\n",
              "      <th>max_score</th>\n",
              "      <th>std_score</th>\n",
              "      <th>model__max_depth</th>\n",
              "      <th>model__max_features</th>\n",
              "      <th>model__min_samples_leaf</th>\n",
              "      <th>model__min_samples_split</th>\n",
              "      <th>model__n_estimators</th>\n",
              "    </tr>\n",
              "  </thead>\n",
              "  <tbody>\n",
              "    <tr>\n",
              "      <th>31</th>\n",
              "      <td>ExtraTreesRegressor</td>\n",
              "      <td>0.767243</td>\n",
              "      <td>0.824345</td>\n",
              "      <td>0.873592</td>\n",
              "      <td>0.043618</td>\n",
              "      <td>None</td>\n",
              "      <td>0.5</td>\n",
              "      <td>2</td>\n",
              "      <td>5</td>\n",
              "      <td>300</td>\n",
              "    </tr>\n",
              "    <tr>\n",
              "      <th>23</th>\n",
              "      <td>ExtraTreesRegressor</td>\n",
              "      <td>0.767243</td>\n",
              "      <td>0.824345</td>\n",
              "      <td>0.873592</td>\n",
              "      <td>0.043618</td>\n",
              "      <td>None</td>\n",
              "      <td>sqrt</td>\n",
              "      <td>2</td>\n",
              "      <td>5</td>\n",
              "      <td>300</td>\n",
              "    </tr>\n",
              "    <tr>\n",
              "      <th>29</th>\n",
              "      <td>ExtraTreesRegressor</td>\n",
              "      <td>0.770075</td>\n",
              "      <td>0.822916</td>\n",
              "      <td>0.872195</td>\n",
              "      <td>0.044085</td>\n",
              "      <td>None</td>\n",
              "      <td>0.5</td>\n",
              "      <td>2</td>\n",
              "      <td>2</td>\n",
              "      <td>300</td>\n",
              "    </tr>\n",
              "    <tr>\n",
              "      <th>21</th>\n",
              "      <td>ExtraTreesRegressor</td>\n",
              "      <td>0.770075</td>\n",
              "      <td>0.822916</td>\n",
              "      <td>0.872195</td>\n",
              "      <td>0.044085</td>\n",
              "      <td>None</td>\n",
              "      <td>sqrt</td>\n",
              "      <td>2</td>\n",
              "      <td>2</td>\n",
              "      <td>300</td>\n",
              "    </tr>\n",
              "    <tr>\n",
              "      <th>30</th>\n",
              "      <td>ExtraTreesRegressor</td>\n",
              "      <td>0.766595</td>\n",
              "      <td>0.822425</td>\n",
              "      <td>0.86986</td>\n",
              "      <td>0.044505</td>\n",
              "      <td>None</td>\n",
              "      <td>0.5</td>\n",
              "      <td>2</td>\n",
              "      <td>5</td>\n",
              "      <td>100</td>\n",
              "    </tr>\n",
              "    <tr>\n",
              "      <th>22</th>\n",
              "      <td>ExtraTreesRegressor</td>\n",
              "      <td>0.766595</td>\n",
              "      <td>0.822425</td>\n",
              "      <td>0.86986</td>\n",
              "      <td>0.044505</td>\n",
              "      <td>None</td>\n",
              "      <td>sqrt</td>\n",
              "      <td>2</td>\n",
              "      <td>5</td>\n",
              "      <td>100</td>\n",
              "    </tr>\n",
              "    <tr>\n",
              "      <th>27</th>\n",
              "      <td>ExtraTreesRegressor</td>\n",
              "      <td>0.724212</td>\n",
              "      <td>0.821123</td>\n",
              "      <td>0.880357</td>\n",
              "      <td>0.060664</td>\n",
              "      <td>None</td>\n",
              "      <td>0.5</td>\n",
              "      <td>1</td>\n",
              "      <td>5</td>\n",
              "      <td>300</td>\n",
              "    </tr>\n",
              "    <tr>\n",
              "      <th>19</th>\n",
              "      <td>ExtraTreesRegressor</td>\n",
              "      <td>0.724212</td>\n",
              "      <td>0.821123</td>\n",
              "      <td>0.880357</td>\n",
              "      <td>0.060664</td>\n",
              "      <td>None</td>\n",
              "      <td>sqrt</td>\n",
              "      <td>1</td>\n",
              "      <td>5</td>\n",
              "      <td>300</td>\n",
              "    </tr>\n",
              "    <tr>\n",
              "      <th>20</th>\n",
              "      <td>ExtraTreesRegressor</td>\n",
              "      <td>0.769572</td>\n",
              "      <td>0.820626</td>\n",
              "      <td>0.866572</td>\n",
              "      <td>0.042785</td>\n",
              "      <td>None</td>\n",
              "      <td>sqrt</td>\n",
              "      <td>2</td>\n",
              "      <td>2</td>\n",
              "      <td>100</td>\n",
              "    </tr>\n",
              "    <tr>\n",
              "      <th>28</th>\n",
              "      <td>ExtraTreesRegressor</td>\n",
              "      <td>0.769572</td>\n",
              "      <td>0.820626</td>\n",
              "      <td>0.866572</td>\n",
              "      <td>0.042785</td>\n",
              "      <td>None</td>\n",
              "      <td>0.5</td>\n",
              "      <td>2</td>\n",
              "      <td>2</td>\n",
              "      <td>100</td>\n",
              "    </tr>\n",
              "    <tr>\n",
              "      <th>26</th>\n",
              "      <td>ExtraTreesRegressor</td>\n",
              "      <td>0.725844</td>\n",
              "      <td>0.820546</td>\n",
              "      <td>0.878409</td>\n",
              "      <td>0.059734</td>\n",
              "      <td>None</td>\n",
              "      <td>0.5</td>\n",
              "      <td>1</td>\n",
              "      <td>5</td>\n",
              "      <td>100</td>\n",
              "    </tr>\n",
              "    <tr>\n",
              "      <th>18</th>\n",
              "      <td>ExtraTreesRegressor</td>\n",
              "      <td>0.725844</td>\n",
              "      <td>0.820546</td>\n",
              "      <td>0.878409</td>\n",
              "      <td>0.059734</td>\n",
              "      <td>None</td>\n",
              "      <td>sqrt</td>\n",
              "      <td>1</td>\n",
              "      <td>5</td>\n",
              "      <td>100</td>\n",
              "    </tr>\n",
              "    <tr>\n",
              "      <th>17</th>\n",
              "      <td>ExtraTreesRegressor</td>\n",
              "      <td>0.70908</td>\n",
              "      <td>0.818472</td>\n",
              "      <td>0.878834</td>\n",
              "      <td>0.064997</td>\n",
              "      <td>None</td>\n",
              "      <td>sqrt</td>\n",
              "      <td>1</td>\n",
              "      <td>2</td>\n",
              "      <td>300</td>\n",
              "    </tr>\n",
              "    <tr>\n",
              "      <th>25</th>\n",
              "      <td>ExtraTreesRegressor</td>\n",
              "      <td>0.70908</td>\n",
              "      <td>0.818472</td>\n",
              "      <td>0.878834</td>\n",
              "      <td>0.064997</td>\n",
              "      <td>None</td>\n",
              "      <td>0.5</td>\n",
              "      <td>1</td>\n",
              "      <td>2</td>\n",
              "      <td>300</td>\n",
              "    </tr>\n",
              "    <tr>\n",
              "      <th>13</th>\n",
              "      <td>ExtraTreesRegressor</td>\n",
              "      <td>0.766271</td>\n",
              "      <td>0.817844</td>\n",
              "      <td>0.86704</td>\n",
              "      <td>0.043089</td>\n",
              "      <td>10</td>\n",
              "      <td>0.5</td>\n",
              "      <td>2</td>\n",
              "      <td>2</td>\n",
              "      <td>300</td>\n",
              "    </tr>\n",
              "    <tr>\n",
              "      <th>5</th>\n",
              "      <td>ExtraTreesRegressor</td>\n",
              "      <td>0.766271</td>\n",
              "      <td>0.817844</td>\n",
              "      <td>0.86704</td>\n",
              "      <td>0.043089</td>\n",
              "      <td>10</td>\n",
              "      <td>sqrt</td>\n",
              "      <td>2</td>\n",
              "      <td>2</td>\n",
              "      <td>300</td>\n",
              "    </tr>\n",
              "    <tr>\n",
              "      <th>12</th>\n",
              "      <td>ExtraTreesRegressor</td>\n",
              "      <td>0.766221</td>\n",
              "      <td>0.817057</td>\n",
              "      <td>0.864851</td>\n",
              "      <td>0.042554</td>\n",
              "      <td>10</td>\n",
              "      <td>0.5</td>\n",
              "      <td>2</td>\n",
              "      <td>2</td>\n",
              "      <td>100</td>\n",
              "    </tr>\n",
              "    <tr>\n",
              "      <th>4</th>\n",
              "      <td>ExtraTreesRegressor</td>\n",
              "      <td>0.766221</td>\n",
              "      <td>0.817057</td>\n",
              "      <td>0.864851</td>\n",
              "      <td>0.042554</td>\n",
              "      <td>10</td>\n",
              "      <td>sqrt</td>\n",
              "      <td>2</td>\n",
              "      <td>2</td>\n",
              "      <td>100</td>\n",
              "    </tr>\n",
              "    <tr>\n",
              "      <th>7</th>\n",
              "      <td>ExtraTreesRegressor</td>\n",
              "      <td>0.766656</td>\n",
              "      <td>0.817014</td>\n",
              "      <td>0.86672</td>\n",
              "      <td>0.042751</td>\n",
              "      <td>10</td>\n",
              "      <td>sqrt</td>\n",
              "      <td>2</td>\n",
              "      <td>5</td>\n",
              "      <td>300</td>\n",
              "    </tr>\n",
              "    <tr>\n",
              "      <th>15</th>\n",
              "      <td>ExtraTreesRegressor</td>\n",
              "      <td>0.766656</td>\n",
              "      <td>0.817014</td>\n",
              "      <td>0.86672</td>\n",
              "      <td>0.042751</td>\n",
              "      <td>10</td>\n",
              "      <td>0.5</td>\n",
              "      <td>2</td>\n",
              "      <td>5</td>\n",
              "      <td>300</td>\n",
              "    </tr>\n",
              "    <tr>\n",
              "      <th>24</th>\n",
              "      <td>ExtraTreesRegressor</td>\n",
              "      <td>0.704924</td>\n",
              "      <td>0.816569</td>\n",
              "      <td>0.878346</td>\n",
              "      <td>0.066256</td>\n",
              "      <td>None</td>\n",
              "      <td>0.5</td>\n",
              "      <td>1</td>\n",
              "      <td>2</td>\n",
              "      <td>100</td>\n",
              "    </tr>\n",
              "    <tr>\n",
              "      <th>16</th>\n",
              "      <td>ExtraTreesRegressor</td>\n",
              "      <td>0.704924</td>\n",
              "      <td>0.816569</td>\n",
              "      <td>0.878346</td>\n",
              "      <td>0.066256</td>\n",
              "      <td>None</td>\n",
              "      <td>sqrt</td>\n",
              "      <td>1</td>\n",
              "      <td>2</td>\n",
              "      <td>100</td>\n",
              "    </tr>\n",
              "    <tr>\n",
              "      <th>11</th>\n",
              "      <td>ExtraTreesRegressor</td>\n",
              "      <td>0.727072</td>\n",
              "      <td>0.815319</td>\n",
              "      <td>0.875325</td>\n",
              "      <td>0.056211</td>\n",
              "      <td>10</td>\n",
              "      <td>0.5</td>\n",
              "      <td>1</td>\n",
              "      <td>5</td>\n",
              "      <td>300</td>\n",
              "    </tr>\n",
              "    <tr>\n",
              "      <th>3</th>\n",
              "      <td>ExtraTreesRegressor</td>\n",
              "      <td>0.727072</td>\n",
              "      <td>0.815319</td>\n",
              "      <td>0.875325</td>\n",
              "      <td>0.056211</td>\n",
              "      <td>10</td>\n",
              "      <td>sqrt</td>\n",
              "      <td>1</td>\n",
              "      <td>5</td>\n",
              "      <td>300</td>\n",
              "    </tr>\n",
              "    <tr>\n",
              "      <th>10</th>\n",
              "      <td>ExtraTreesRegressor</td>\n",
              "      <td>0.727703</td>\n",
              "      <td>0.814883</td>\n",
              "      <td>0.876429</td>\n",
              "      <td>0.055829</td>\n",
              "      <td>10</td>\n",
              "      <td>0.5</td>\n",
              "      <td>1</td>\n",
              "      <td>5</td>\n",
              "      <td>100</td>\n",
              "    </tr>\n",
              "    <tr>\n",
              "      <th>2</th>\n",
              "      <td>ExtraTreesRegressor</td>\n",
              "      <td>0.727703</td>\n",
              "      <td>0.814883</td>\n",
              "      <td>0.876429</td>\n",
              "      <td>0.055829</td>\n",
              "      <td>10</td>\n",
              "      <td>sqrt</td>\n",
              "      <td>1</td>\n",
              "      <td>5</td>\n",
              "      <td>100</td>\n",
              "    </tr>\n",
              "    <tr>\n",
              "      <th>1</th>\n",
              "      <td>ExtraTreesRegressor</td>\n",
              "      <td>0.721561</td>\n",
              "      <td>0.814522</td>\n",
              "      <td>0.874921</td>\n",
              "      <td>0.05769</td>\n",
              "      <td>10</td>\n",
              "      <td>sqrt</td>\n",
              "      <td>1</td>\n",
              "      <td>2</td>\n",
              "      <td>300</td>\n",
              "    </tr>\n",
              "    <tr>\n",
              "      <th>9</th>\n",
              "      <td>ExtraTreesRegressor</td>\n",
              "      <td>0.721561</td>\n",
              "      <td>0.814522</td>\n",
              "      <td>0.874921</td>\n",
              "      <td>0.05769</td>\n",
              "      <td>10</td>\n",
              "      <td>0.5</td>\n",
              "      <td>1</td>\n",
              "      <td>2</td>\n",
              "      <td>300</td>\n",
              "    </tr>\n",
              "    <tr>\n",
              "      <th>14</th>\n",
              "      <td>ExtraTreesRegressor</td>\n",
              "      <td>0.759325</td>\n",
              "      <td>0.814351</td>\n",
              "      <td>0.863568</td>\n",
              "      <td>0.045812</td>\n",
              "      <td>10</td>\n",
              "      <td>0.5</td>\n",
              "      <td>2</td>\n",
              "      <td>5</td>\n",
              "      <td>100</td>\n",
              "    </tr>\n",
              "    <tr>\n",
              "      <th>6</th>\n",
              "      <td>ExtraTreesRegressor</td>\n",
              "      <td>0.759325</td>\n",
              "      <td>0.814351</td>\n",
              "      <td>0.863568</td>\n",
              "      <td>0.045812</td>\n",
              "      <td>10</td>\n",
              "      <td>sqrt</td>\n",
              "      <td>2</td>\n",
              "      <td>5</td>\n",
              "      <td>100</td>\n",
              "    </tr>\n",
              "    <tr>\n",
              "      <th>8</th>\n",
              "      <td>ExtraTreesRegressor</td>\n",
              "      <td>0.720232</td>\n",
              "      <td>0.812911</td>\n",
              "      <td>0.874969</td>\n",
              "      <td>0.059755</td>\n",
              "      <td>10</td>\n",
              "      <td>0.5</td>\n",
              "      <td>1</td>\n",
              "      <td>2</td>\n",
              "      <td>100</td>\n",
              "    </tr>\n",
              "    <tr>\n",
              "      <th>0</th>\n",
              "      <td>ExtraTreesRegressor</td>\n",
              "      <td>0.720232</td>\n",
              "      <td>0.812911</td>\n",
              "      <td>0.874969</td>\n",
              "      <td>0.059755</td>\n",
              "      <td>10</td>\n",
              "      <td>sqrt</td>\n",
              "      <td>1</td>\n",
              "      <td>2</td>\n",
              "      <td>100</td>\n",
              "    </tr>\n",
              "  </tbody>\n",
              "</table>\n",
              "</div>"
            ],
            "text/plain": [
              "              estimator min_score mean_score max_score std_score  \\\n",
              "31  ExtraTreesRegressor  0.767243   0.824345  0.873592  0.043618   \n",
              "23  ExtraTreesRegressor  0.767243   0.824345  0.873592  0.043618   \n",
              "29  ExtraTreesRegressor  0.770075   0.822916  0.872195  0.044085   \n",
              "21  ExtraTreesRegressor  0.770075   0.822916  0.872195  0.044085   \n",
              "30  ExtraTreesRegressor  0.766595   0.822425   0.86986  0.044505   \n",
              "22  ExtraTreesRegressor  0.766595   0.822425   0.86986  0.044505   \n",
              "27  ExtraTreesRegressor  0.724212   0.821123  0.880357  0.060664   \n",
              "19  ExtraTreesRegressor  0.724212   0.821123  0.880357  0.060664   \n",
              "20  ExtraTreesRegressor  0.769572   0.820626  0.866572  0.042785   \n",
              "28  ExtraTreesRegressor  0.769572   0.820626  0.866572  0.042785   \n",
              "26  ExtraTreesRegressor  0.725844   0.820546  0.878409  0.059734   \n",
              "18  ExtraTreesRegressor  0.725844   0.820546  0.878409  0.059734   \n",
              "17  ExtraTreesRegressor   0.70908   0.818472  0.878834  0.064997   \n",
              "25  ExtraTreesRegressor   0.70908   0.818472  0.878834  0.064997   \n",
              "13  ExtraTreesRegressor  0.766271   0.817844   0.86704  0.043089   \n",
              "5   ExtraTreesRegressor  0.766271   0.817844   0.86704  0.043089   \n",
              "12  ExtraTreesRegressor  0.766221   0.817057  0.864851  0.042554   \n",
              "4   ExtraTreesRegressor  0.766221   0.817057  0.864851  0.042554   \n",
              "7   ExtraTreesRegressor  0.766656   0.817014   0.86672  0.042751   \n",
              "15  ExtraTreesRegressor  0.766656   0.817014   0.86672  0.042751   \n",
              "24  ExtraTreesRegressor  0.704924   0.816569  0.878346  0.066256   \n",
              "16  ExtraTreesRegressor  0.704924   0.816569  0.878346  0.066256   \n",
              "11  ExtraTreesRegressor  0.727072   0.815319  0.875325  0.056211   \n",
              "3   ExtraTreesRegressor  0.727072   0.815319  0.875325  0.056211   \n",
              "10  ExtraTreesRegressor  0.727703   0.814883  0.876429  0.055829   \n",
              "2   ExtraTreesRegressor  0.727703   0.814883  0.876429  0.055829   \n",
              "1   ExtraTreesRegressor  0.721561   0.814522  0.874921   0.05769   \n",
              "9   ExtraTreesRegressor  0.721561   0.814522  0.874921   0.05769   \n",
              "14  ExtraTreesRegressor  0.759325   0.814351  0.863568  0.045812   \n",
              "6   ExtraTreesRegressor  0.759325   0.814351  0.863568  0.045812   \n",
              "8   ExtraTreesRegressor  0.720232   0.812911  0.874969  0.059755   \n",
              "0   ExtraTreesRegressor  0.720232   0.812911  0.874969  0.059755   \n",
              "\n",
              "   model__max_depth model__max_features model__min_samples_leaf  \\\n",
              "31             None                 0.5                       2   \n",
              "23             None                sqrt                       2   \n",
              "29             None                 0.5                       2   \n",
              "21             None                sqrt                       2   \n",
              "30             None                 0.5                       2   \n",
              "22             None                sqrt                       2   \n",
              "27             None                 0.5                       1   \n",
              "19             None                sqrt                       1   \n",
              "20             None                sqrt                       2   \n",
              "28             None                 0.5                       2   \n",
              "26             None                 0.5                       1   \n",
              "18             None                sqrt                       1   \n",
              "17             None                sqrt                       1   \n",
              "25             None                 0.5                       1   \n",
              "13               10                 0.5                       2   \n",
              "5                10                sqrt                       2   \n",
              "12               10                 0.5                       2   \n",
              "4                10                sqrt                       2   \n",
              "7                10                sqrt                       2   \n",
              "15               10                 0.5                       2   \n",
              "24             None                 0.5                       1   \n",
              "16             None                sqrt                       1   \n",
              "11               10                 0.5                       1   \n",
              "3                10                sqrt                       1   \n",
              "10               10                 0.5                       1   \n",
              "2                10                sqrt                       1   \n",
              "1                10                sqrt                       1   \n",
              "9                10                 0.5                       1   \n",
              "14               10                 0.5                       2   \n",
              "6                10                sqrt                       2   \n",
              "8                10                 0.5                       1   \n",
              "0                10                sqrt                       1   \n",
              "\n",
              "   model__min_samples_split model__n_estimators  \n",
              "31                        5                 300  \n",
              "23                        5                 300  \n",
              "29                        2                 300  \n",
              "21                        2                 300  \n",
              "30                        5                 100  \n",
              "22                        5                 100  \n",
              "27                        5                 300  \n",
              "19                        5                 300  \n",
              "20                        2                 100  \n",
              "28                        2                 100  \n",
              "26                        5                 100  \n",
              "18                        5                 100  \n",
              "17                        2                 300  \n",
              "25                        2                 300  \n",
              "13                        2                 300  \n",
              "5                         2                 300  \n",
              "12                        2                 100  \n",
              "4                         2                 100  \n",
              "7                         5                 300  \n",
              "15                        5                 300  \n",
              "24                        2                 100  \n",
              "16                        2                 100  \n",
              "11                        5                 300  \n",
              "3                         5                 300  \n",
              "10                        5                 100  \n",
              "2                         5                 100  \n",
              "1                         2                 300  \n",
              "9                         2                 300  \n",
              "14                        5                 100  \n",
              "6                         5                 100  \n",
              "8                         2                 100  \n",
              "0                         2                 100  "
            ]
          },
          "execution_count": 247,
          "metadata": {},
          "output_type": "execute_result"
        }
      ],
      "source": [
        "grid_search_summary, grid_search_pipelines = search.score_summary(sort_by='mean_score')\n",
        "grid_search_summary"
      ]
    },
    {
      "cell_type": "markdown",
      "metadata": {
        "id": "DWryh7BlA2df"
      },
      "source": [
        "Check the best model"
      ]
    },
    {
      "cell_type": "code",
      "execution_count": 248,
      "metadata": {
        "id": "QVWEmpSuA4C7"
      },
      "outputs": [
        {
          "data": {
            "text/plain": [
              "'ExtraTreesRegressor'"
            ]
          },
          "execution_count": 248,
          "metadata": {},
          "output_type": "execute_result"
        }
      ],
      "source": [
        "best_model = grid_search_summary.iloc[0, 0]\n",
        "best_model"
      ]
    },
    {
      "cell_type": "markdown",
      "metadata": {
        "id": "7_jvnR4sZ8km"
      },
      "source": [
        "Parameters for best model"
      ]
    },
    {
      "cell_type": "code",
      "execution_count": 249,
      "metadata": {
        "id": "2my-LZFzZ-YD"
      },
      "outputs": [
        {
          "data": {
            "text/plain": [
              "{'model__max_depth': None,\n",
              " 'model__max_features': 'sqrt',\n",
              " 'model__min_samples_leaf': 2,\n",
              " 'model__min_samples_split': 5,\n",
              " 'model__n_estimators': 300}"
            ]
          },
          "execution_count": 249,
          "metadata": {},
          "output_type": "execute_result"
        }
      ],
      "source": [
        "best_parameters = grid_search_pipelines[best_model].best_params_\n",
        "best_parameters"
      ]
    },
    {
      "cell_type": "markdown",
      "metadata": {
        "id": "DgWXlprwaAW-"
      },
      "source": [
        "Define the best regressor, based on search"
      ]
    },
    {
      "cell_type": "code",
      "execution_count": 250,
      "metadata": {
        "id": "0OZ24jS0aAfP"
      },
      "outputs": [
        {
          "data": {
            "text/html": [
              "<style>#sk-container-id-18 {color: black;}#sk-container-id-18 pre{padding: 0;}#sk-container-id-18 div.sk-toggleable {background-color: white;}#sk-container-id-18 label.sk-toggleable__label {cursor: pointer;display: block;width: 100%;margin-bottom: 0;padding: 0.3em;box-sizing: border-box;text-align: center;}#sk-container-id-18 label.sk-toggleable__label-arrow:before {content: \"▸\";float: left;margin-right: 0.25em;color: #696969;}#sk-container-id-18 label.sk-toggleable__label-arrow:hover:before {color: black;}#sk-container-id-18 div.sk-estimator:hover label.sk-toggleable__label-arrow:before {color: black;}#sk-container-id-18 div.sk-toggleable__content {max-height: 0;max-width: 0;overflow: hidden;text-align: left;background-color: #f0f8ff;}#sk-container-id-18 div.sk-toggleable__content pre {margin: 0.2em;color: black;border-radius: 0.25em;background-color: #f0f8ff;}#sk-container-id-18 input.sk-toggleable__control:checked~div.sk-toggleable__content {max-height: 200px;max-width: 100%;overflow: auto;}#sk-container-id-18 input.sk-toggleable__control:checked~label.sk-toggleable__label-arrow:before {content: \"▾\";}#sk-container-id-18 div.sk-estimator input.sk-toggleable__control:checked~label.sk-toggleable__label {background-color: #d4ebff;}#sk-container-id-18 div.sk-label input.sk-toggleable__control:checked~label.sk-toggleable__label {background-color: #d4ebff;}#sk-container-id-18 input.sk-hidden--visually {border: 0;clip: rect(1px 1px 1px 1px);clip: rect(1px, 1px, 1px, 1px);height: 1px;margin: -1px;overflow: hidden;padding: 0;position: absolute;width: 1px;}#sk-container-id-18 div.sk-estimator {font-family: monospace;background-color: #f0f8ff;border: 1px dotted black;border-radius: 0.25em;box-sizing: border-box;margin-bottom: 0.5em;}#sk-container-id-18 div.sk-estimator:hover {background-color: #d4ebff;}#sk-container-id-18 div.sk-parallel-item::after {content: \"\";width: 100%;border-bottom: 1px solid gray;flex-grow: 1;}#sk-container-id-18 div.sk-label:hover label.sk-toggleable__label {background-color: #d4ebff;}#sk-container-id-18 div.sk-serial::before {content: \"\";position: absolute;border-left: 1px solid gray;box-sizing: border-box;top: 0;bottom: 0;left: 50%;z-index: 0;}#sk-container-id-18 div.sk-serial {display: flex;flex-direction: column;align-items: center;background-color: white;padding-right: 0.2em;padding-left: 0.2em;position: relative;}#sk-container-id-18 div.sk-item {position: relative;z-index: 1;}#sk-container-id-18 div.sk-parallel {display: flex;align-items: stretch;justify-content: center;background-color: white;position: relative;}#sk-container-id-18 div.sk-item::before, #sk-container-id-18 div.sk-parallel-item::before {content: \"\";position: absolute;border-left: 1px solid gray;box-sizing: border-box;top: 0;bottom: 0;left: 50%;z-index: -1;}#sk-container-id-18 div.sk-parallel-item {display: flex;flex-direction: column;z-index: 1;position: relative;background-color: white;}#sk-container-id-18 div.sk-parallel-item:first-child::after {align-self: flex-end;width: 50%;}#sk-container-id-18 div.sk-parallel-item:last-child::after {align-self: flex-start;width: 50%;}#sk-container-id-18 div.sk-parallel-item:only-child::after {width: 0;}#sk-container-id-18 div.sk-dashed-wrapped {border: 1px dashed gray;margin: 0 0.4em 0.5em 0.4em;box-sizing: border-box;padding-bottom: 0.4em;background-color: white;}#sk-container-id-18 div.sk-label label {font-family: monospace;font-weight: bold;display: inline-block;line-height: 1.2em;}#sk-container-id-18 div.sk-label-container {text-align: center;}#sk-container-id-18 div.sk-container {/* jupyter's `normalize.less` sets `[hidden] { display: none; }` but bootstrap.min.css set `[hidden] { display: none !important; }` so we also need the `!important` here to be able to override the default hidden behavior on the sphinx rendered scikit-learn.org. See: https://github.com/scikit-learn/scikit-learn/issues/21755 */display: inline-block !important;position: relative;}#sk-container-id-18 div.sk-text-repr-fallback {display: none;}</style><div id=\"sk-container-id-18\" class=\"sk-top-container\"><div class=\"sk-text-repr-fallback\"><pre>Pipeline(steps=[(&#x27;OrdinalCategoricalEncoder&#x27;,\n",
              "                 OrdinalEncoder(encoding_method=&#x27;arbitrary&#x27;,\n",
              "                                variables=[&#x27;BsmtExposure&#x27;, &#x27;BsmtFinType1&#x27;,\n",
              "                                           &#x27;GarageFinish&#x27;, &#x27;KitchenQual&#x27;])),\n",
              "                (&#x27;SmartCorrelatedSelection&#x27;,\n",
              "                 SmartCorrelatedSelection(method=&#x27;spearman&#x27;,\n",
              "                                          selection_method=&#x27;variance&#x27;,\n",
              "                                          threshold=0.6)),\n",
              "                (&#x27;feat_scaling&#x27;, StandardScaler()),\n",
              "                (&#x27;feat_selection&#x27;,\n",
              "                 SelectFromModel(estimator=ExtraTreesRegressor(random_state=0))),\n",
              "                (&#x27;model&#x27;,\n",
              "                 ExtraTreesRegressor(max_features=&#x27;sqrt&#x27;, min_samples_leaf=2,\n",
              "                                     min_samples_split=5, n_estimators=300,\n",
              "                                     random_state=0))])</pre><b>In a Jupyter environment, please rerun this cell to show the HTML representation or trust the notebook. <br />On GitHub, the HTML representation is unable to render, please try loading this page with nbviewer.org.</b></div><div class=\"sk-container\" hidden><div class=\"sk-item sk-dashed-wrapped\"><div class=\"sk-label-container\"><div class=\"sk-label sk-toggleable\"><input class=\"sk-toggleable__control sk-hidden--visually\" id=\"sk-estimator-id-118\" type=\"checkbox\" ><label for=\"sk-estimator-id-118\" class=\"sk-toggleable__label sk-toggleable__label-arrow\">Pipeline</label><div class=\"sk-toggleable__content\"><pre>Pipeline(steps=[(&#x27;OrdinalCategoricalEncoder&#x27;,\n",
              "                 OrdinalEncoder(encoding_method=&#x27;arbitrary&#x27;,\n",
              "                                variables=[&#x27;BsmtExposure&#x27;, &#x27;BsmtFinType1&#x27;,\n",
              "                                           &#x27;GarageFinish&#x27;, &#x27;KitchenQual&#x27;])),\n",
              "                (&#x27;SmartCorrelatedSelection&#x27;,\n",
              "                 SmartCorrelatedSelection(method=&#x27;spearman&#x27;,\n",
              "                                          selection_method=&#x27;variance&#x27;,\n",
              "                                          threshold=0.6)),\n",
              "                (&#x27;feat_scaling&#x27;, StandardScaler()),\n",
              "                (&#x27;feat_selection&#x27;,\n",
              "                 SelectFromModel(estimator=ExtraTreesRegressor(random_state=0))),\n",
              "                (&#x27;model&#x27;,\n",
              "                 ExtraTreesRegressor(max_features=&#x27;sqrt&#x27;, min_samples_leaf=2,\n",
              "                                     min_samples_split=5, n_estimators=300,\n",
              "                                     random_state=0))])</pre></div></div></div><div class=\"sk-serial\"><div class=\"sk-item\"><div class=\"sk-estimator sk-toggleable\"><input class=\"sk-toggleable__control sk-hidden--visually\" id=\"sk-estimator-id-119\" type=\"checkbox\" ><label for=\"sk-estimator-id-119\" class=\"sk-toggleable__label sk-toggleable__label-arrow\">OrdinalEncoder</label><div class=\"sk-toggleable__content\"><pre>OrdinalEncoder(encoding_method=&#x27;arbitrary&#x27;,\n",
              "               variables=[&#x27;BsmtExposure&#x27;, &#x27;BsmtFinType1&#x27;, &#x27;GarageFinish&#x27;,\n",
              "                          &#x27;KitchenQual&#x27;])</pre></div></div></div><div class=\"sk-item\"><div class=\"sk-estimator sk-toggleable\"><input class=\"sk-toggleable__control sk-hidden--visually\" id=\"sk-estimator-id-120\" type=\"checkbox\" ><label for=\"sk-estimator-id-120\" class=\"sk-toggleable__label sk-toggleable__label-arrow\">SmartCorrelatedSelection</label><div class=\"sk-toggleable__content\"><pre>SmartCorrelatedSelection(method=&#x27;spearman&#x27;, selection_method=&#x27;variance&#x27;,\n",
              "                         threshold=0.6)</pre></div></div></div><div class=\"sk-item\"><div class=\"sk-estimator sk-toggleable\"><input class=\"sk-toggleable__control sk-hidden--visually\" id=\"sk-estimator-id-121\" type=\"checkbox\" ><label for=\"sk-estimator-id-121\" class=\"sk-toggleable__label sk-toggleable__label-arrow\">StandardScaler</label><div class=\"sk-toggleable__content\"><pre>StandardScaler()</pre></div></div></div><div class=\"sk-item sk-dashed-wrapped\"><div class=\"sk-label-container\"><div class=\"sk-label sk-toggleable\"><input class=\"sk-toggleable__control sk-hidden--visually\" id=\"sk-estimator-id-122\" type=\"checkbox\" ><label for=\"sk-estimator-id-122\" class=\"sk-toggleable__label sk-toggleable__label-arrow\">feat_selection: SelectFromModel</label><div class=\"sk-toggleable__content\"><pre>SelectFromModel(estimator=ExtraTreesRegressor(random_state=0))</pre></div></div></div><div class=\"sk-parallel\"><div class=\"sk-parallel-item\"><div class=\"sk-item\"><div class=\"sk-label-container\"><div class=\"sk-label sk-toggleable\"><input class=\"sk-toggleable__control sk-hidden--visually\" id=\"sk-estimator-id-123\" type=\"checkbox\" ><label for=\"sk-estimator-id-123\" class=\"sk-toggleable__label sk-toggleable__label-arrow\">estimator: ExtraTreesRegressor</label><div class=\"sk-toggleable__content\"><pre>ExtraTreesRegressor(random_state=0)</pre></div></div></div><div class=\"sk-serial\"><div class=\"sk-item\"><div class=\"sk-estimator sk-toggleable\"><input class=\"sk-toggleable__control sk-hidden--visually\" id=\"sk-estimator-id-124\" type=\"checkbox\" ><label for=\"sk-estimator-id-124\" class=\"sk-toggleable__label sk-toggleable__label-arrow\">ExtraTreesRegressor</label><div class=\"sk-toggleable__content\"><pre>ExtraTreesRegressor(random_state=0)</pre></div></div></div></div></div></div></div></div><div class=\"sk-item\"><div class=\"sk-estimator sk-toggleable\"><input class=\"sk-toggleable__control sk-hidden--visually\" id=\"sk-estimator-id-125\" type=\"checkbox\" ><label for=\"sk-estimator-id-125\" class=\"sk-toggleable__label sk-toggleable__label-arrow\">ExtraTreesRegressor</label><div class=\"sk-toggleable__content\"><pre>ExtraTreesRegressor(max_features=&#x27;sqrt&#x27;, min_samples_leaf=2,\n",
              "                    min_samples_split=5, n_estimators=300, random_state=0)</pre></div></div></div></div></div></div></div>"
            ],
            "text/plain": [
              "Pipeline(steps=[('OrdinalCategoricalEncoder',\n",
              "                 OrdinalEncoder(encoding_method='arbitrary',\n",
              "                                variables=['BsmtExposure', 'BsmtFinType1',\n",
              "                                           'GarageFinish', 'KitchenQual'])),\n",
              "                ('SmartCorrelatedSelection',\n",
              "                 SmartCorrelatedSelection(method='spearman',\n",
              "                                          selection_method='variance',\n",
              "                                          threshold=0.6)),\n",
              "                ('feat_scaling', StandardScaler()),\n",
              "                ('feat_selection',\n",
              "                 SelectFromModel(estimator=ExtraTreesRegressor(random_state=0))),\n",
              "                ('model',\n",
              "                 ExtraTreesRegressor(max_features='sqrt', min_samples_leaf=2,\n",
              "                                     min_samples_split=5, n_estimators=300,\n",
              "                                     random_state=0))])"
            ]
          },
          "execution_count": 250,
          "metadata": {},
          "output_type": "execute_result"
        }
      ],
      "source": [
        "best_regressor_pipeline = grid_search_pipelines[best_model].best_estimator_\n",
        "best_regressor_pipeline"
      ]
    },
    {
      "cell_type": "markdown",
      "metadata": {
        "id": "I9uT2XmaKISR"
      },
      "source": [
        "## Assess feature importance"
      ]
    },
    {
      "cell_type": "code",
      "execution_count": 251,
      "metadata": {
        "id": "-m6NUUa0KFQX"
      },
      "outputs": [
        {
          "name": "stdout",
          "output_type": "stream",
          "text": [
            "* These are the 5 most important features in descending order. The model was trained on them: \n",
            "['OverallQual', 'GrLivArea', 'TotalBsmtSF', 'YearBuilt', 'GarageArea']\n"
          ]
        },
        {
          "data": {
            "image/png": "[encoded data removed]",
            "text/plain": [
              "<Figure size 640x480 with 1 Axes>"
            ]
          },
          "metadata": {},
          "output_type": "display_data"
        }
      ],
      "source": [
        "import matplotlib.pyplot as plt\n",
        "import seaborn as sns\n",
        "sns.set_style('whitegrid')\n",
        "\n",
        "# after data cleaning and feature engineering, the features may have changes\n",
        "# how many data cleaning and feature engineering steps does your pipeline have?\n",
        "data_cleaning_feat_eng_steps = 2\n",
        "columns_after_data_cleaning_feat_eng = (Pipeline(best_regressor_pipeline.steps[:data_cleaning_feat_eng_steps])\n",
        "                                        .transform(X_train)\n",
        "                                        .columns)\n",
        "\n",
        "best_features = columns_after_data_cleaning_feat_eng[best_regressor_pipeline['feat_selection'].get_support(\n",
        ")].to_list()\n",
        "\n",
        "# create DataFrame to display feature importance\n",
        "df_feature_importance = (pd.DataFrame(data={\n",
        "    'Feature': columns_after_data_cleaning_feat_eng[best_regressor_pipeline['feat_selection'].get_support()],\n",
        "    'Importance': best_regressor_pipeline['model'].feature_importances_})\n",
        "    .sort_values(by='Importance', ascending=False)\n",
        ")\n",
        "\n",
        "# Most important features statement and plot\n",
        "print(f\"* These are the {len(best_features)} most important features in descending order. \"\n",
        "      f\"The model was trained on them: \\n{df_feature_importance['Feature'].to_list()}\")\n",
        "\n",
        "df_feature_importance.plot(kind='bar', x='Feature', y='Importance')\n",
        "plt.show()\n"
      ]
    },
    {
      "cell_type": "markdown",
      "metadata": {
        "id": "QzNyQirSKJj6"
      },
      "source": [
        "## Evaluate on Train and Test Sets"
      ]
    },
    {
      "cell_type": "code",
      "execution_count": 252,
      "metadata": {
        "id": "5pBm_vx8BO9s"
      },
      "outputs": [],
      "source": [
        "from sklearn.metrics import r2_score, mean_squared_error, mean_absolute_error\n",
        "import numpy as np\n",
        "\n",
        "\n",
        "def regression_performance(X_train, y_train, X_test, y_test, pipeline):\n",
        "    print(\"Model Evaluation \\n\")\n",
        "    print(\"* Train Set\")\n",
        "    regression_evaluation(X_train, y_train, pipeline)\n",
        "    print(\"* Test Set\")\n",
        "    regression_evaluation(X_test, y_test, pipeline)\n",
        "\n",
        "\n",
        "def regression_evaluation(X, y, pipeline):\n",
        "    prediction = pipeline.predict(X)\n",
        "    print('R2 Score:', r2_score(y, prediction).round(3))\n",
        "    print('Mean Absolute Error:', mean_absolute_error(y, prediction).round(3))\n",
        "    print('Mean Squared Error:', mean_squared_error(y, prediction).round(3))\n",
        "    print('Root Mean Squared Error:', np.sqrt(\n",
        "        mean_squared_error(y, prediction)).round(3))\n",
        "    print(\"\\n\")\n",
        "\n",
        "\n",
        "def regression_evaluation_plots(X_train, y_train, X_test, y_test, pipeline, alpha_scatter=0.5):\n",
        "    pred_train = pipeline.predict(X_train)\n",
        "    pred_test = pipeline.predict(X_test)\n",
        "\n",
        "    fig, axes = plt.subplots(nrows=1, ncols=2, figsize=(12, 6))\n",
        "    sns.scatterplot(x=y_train, y=pred_train, alpha=alpha_scatter, ax=axes[0])\n",
        "    sns.lineplot(x=y_train, y=y_train, color='red', ax=axes[0])\n",
        "    axes[0].set_xlabel(\"Actual\")\n",
        "    axes[0].set_ylabel(\"Predictions\")\n",
        "    axes[0].set_title(\"Train Set\")\n",
        "\n",
        "    sns.scatterplot(x=y_test, y=pred_test, alpha=alpha_scatter, ax=axes[1])\n",
        "    sns.lineplot(x=y_test, y=y_test, color='red', ax=axes[1])\n",
        "    axes[1].set_xlabel(\"Actual\")\n",
        "    axes[1].set_ylabel(\"Predictions\")\n",
        "    axes[1].set_title(\"Test Set\")\n",
        "\n",
        "    plt.show()\n"
      ]
    },
    {
      "cell_type": "markdown",
      "metadata": {
        "id": "tV-W5nYyBPdk"
      },
      "source": [
        "Evaluate Performance"
      ]
    },
    {
      "cell_type": "code",
      "execution_count": 253,
      "metadata": {
        "id": "EgBgrKJ5KFcX"
      },
      "outputs": [
        {
          "name": "stdout",
          "output_type": "stream",
          "text": [
            "Model Evaluation \n",
            "\n",
            "* Train Set\n",
            "R2 Score: 0.917\n",
            "Mean Absolute Error: 14454.437\n",
            "Mean Squared Error: 510444039.492\n",
            "Root Mean Squared Error: 22593.009\n",
            "\n",
            "\n",
            "* Test Set\n",
            "R2 Score: 0.819\n",
            "Mean Absolute Error: 20246.761\n",
            "Mean Squared Error: 1246539227.305\n",
            "Root Mean Squared Error: 35306.362\n",
            "\n",
            "\n"
          ]
        },
        {
          "data": {
            "image/png": "[encoded data removed]",
            "text/plain": [
              "<Figure size 1200x600 with 2 Axes>"
            ]
          },
          "metadata": {},
          "output_type": "display_data"
        }
      ],
      "source": [
        "regression_performance(X_train, y_train, X_test, y_test, best_regressor_pipeline)\n",
        "regression_evaluation_plots(X_train, y_train, X_test, y_test, best_regressor_pipeline)"
      ]
    },
    {
      "cell_type": "markdown",
      "metadata": {},
      "source": [
        "The model has achieved a strong predictive accuracy with an R² of 0.917 on the training set and 0.819 on the test set, indicating good but not perfect generalisation. The increase in error metrics from train to test (MAE: +5.8K, RMSE: +12.7K) suggests mild overfitting, likely due to high feature dimensionality or noise in the data.\n",
        "\n",
        "Next Steps would include:\n",
        "* Implement PCA to reduce collinearity, remove noise, and improve generalisation.\n",
        "* Refine hyperparameters to limit overfitting."
      ]
    },
    {
      "cell_type": "markdown",
      "metadata": {
        "id": "HZ9tjLxEIn3h"
      },
      "source": [
        "# Regressor with PCA"
      ]
    },
    {
      "cell_type": "markdown",
      "metadata": {},
      "source": [
        "Let's explore potential values for PCA n_components."
      ]
    },
    {
      "cell_type": "code",
      "execution_count": 232,
      "metadata": {},
      "outputs": [
        {
          "name": "stdout",
          "output_type": "stream",
          "text": [
            "(1460, 17) \n",
            " <class 'numpy.ndarray'>\n"
          ]
        }
      ],
      "source": [
        "pipeline = PipelineOptimization(model=LinearRegression())\n",
        "pipeline_pca = Pipeline(pipeline.steps[:3])\n",
        "df_pca = pipeline_pca.fit_transform(df.drop(['SalePrice'], axis=1))\n",
        "\n",
        "print(df_pca.shape,'\\n', type(df_pca))"
      ]
    },
    {
      "cell_type": "markdown",
      "metadata": {},
      "source": [
        "Apply PCA separately to the scaled data"
      ]
    },
    {
      "cell_type": "code",
      "execution_count": 233,
      "metadata": {},
      "outputs": [
        {
          "name": "stdout",
          "output_type": "stream",
          "text": [
            "* The 17 components explain 100.0% of the data \n",
            "\n"
          ]
        },
        {
          "data": {
            "image/png": "[encoded data removed]",
            "text/plain": [
              "<Figure size 1200x500 with 1 Axes>"
            ]
          },
          "metadata": {},
          "output_type": "display_data"
        }
      ],
      "source": [
        "import numpy as np\n",
        "from sklearn.decomposition import PCA\n",
        "\n",
        "n_components = 17\n",
        "\n",
        "\n",
        "def pca_components_analysis(df_pca, n_components):\n",
        "    pca = PCA(n_components=n_components).fit(df_pca)\n",
        "    x_PCA = pca.transform(df_pca)  # array with transformed PCA\n",
        "\n",
        "    ComponentsList = [\"Component \" + str(number)\n",
        "                      for number in range(n_components)]\n",
        "    dfExplVarRatio = pd.DataFrame(\n",
        "        data=np.round(100 * pca.explained_variance_ratio_, 3),\n",
        "        index=ComponentsList,\n",
        "        columns=['Explained Variance Ratio (%)'])\n",
        "\n",
        "    dfExplVarRatio['Accumulated Variance'] = dfExplVarRatio['Explained Variance Ratio (%)'].cumsum(\n",
        "    )\n",
        "\n",
        "    PercentageOfDataExplained = dfExplVarRatio['Explained Variance Ratio (%)'].sum(\n",
        "    )\n",
        "\n",
        "    print(\n",
        "        f\"* The {n_components} components explain {round(PercentageOfDataExplained,2)}% of the data \\n\")\n",
        "    plt.figure(figsize=(12, 5))\n",
        "    sns.lineplot(data=dfExplVarRatio,  marker=\"o\")\n",
        "    plt.xticks(rotation=90)\n",
        "    plt.yticks(np.arange(0, 110, 10))\n",
        "    plt.show()\n",
        "\n",
        "\n",
        "pca_components_analysis(df_pca=df_pca, n_components=n_components)\n"
      ]
    },
    {
      "cell_type": "code",
      "execution_count": 234,
      "metadata": {},
      "outputs": [
        {
          "name": "stdout",
          "output_type": "stream",
          "text": [
            "* The 8 components explain 74.62% of the data \n",
            "\n"
          ]
        },
        {
          "data": {
            "image/png": "[encoded data removed]",
            "text/plain": [
              "<Figure size 1200x500 with 1 Axes>"
            ]
          },
          "metadata": {},
          "output_type": "display_data"
        }
      ],
      "source": [
        "n_components = 8\n",
        "pca_components_analysis(df_pca=df_pca, n_components=n_components)"
      ]
    },
    {
      "cell_type": "markdown",
      "metadata": {
        "id": "5eaMf41ZBhBk"
      },
      "source": [
        "## Rewrite ML Pipeline for Modelling"
      ]
    },
    {
      "cell_type": "code",
      "execution_count": 235,
      "metadata": {
        "id": "XfU562GBIsB1"
      },
      "outputs": [],
      "source": [
        "# PCA\n",
        "from sklearn.decomposition import PCA\n",
        "\n",
        "\n",
        "def PipelineOptimization(model):\n",
        "    pipeline_base = Pipeline([\n",
        "\n",
        "        (\"OrdinalCategoricalEncoder\", OrdinalEncoder(encoding_method='arbitrary',\n",
        "                                                     variables=['BsmtExposure', 'BsmtFinType1', 'GarageFinish', 'KitchenQual'])),\n",
        "\n",
        "\n",
        "        (\"SmartCorrelatedSelection\", SmartCorrelatedSelection(variables=None,\n",
        "         method=\"spearman\", threshold=0.6, selection_method=\"variance\")),\n",
        "\n",
        "\n",
        "        (\"feat_scaling\", StandardScaler()),\n",
        "\n",
        "        # PCA replace Feature Selection\n",
        "        (\"PCA\", PCA(n_components=7, random_state=0)),\n",
        "\n",
        "        (\"model\", model),\n",
        "\n",
        "    ])\n",
        "\n",
        "    return pipeline_base\n"
      ]
    },
    {
      "cell_type": "markdown",
      "metadata": {
        "id": "irUsq475Bn7N"
      },
      "source": [
        "## Grid Search CV – Sklearn"
      ]
    },
    {
      "cell_type": "code",
      "execution_count": 236,
      "metadata": {},
      "outputs": [
        {
          "name": "stdout",
          "output_type": "stream",
          "text": [
            "* Train set: (1168, 21) (1168,) \n",
            "* Test set: (292, 21) (292,)\n"
          ]
        }
      ],
      "source": [
        "print(\"* Train set:\", X_train.shape, y_train.shape, \"\\n* Test set:\",  X_test.shape, y_test.shape)"
      ]
    },
    {
      "cell_type": "markdown",
      "metadata": {
        "id": "2LVF-KR_Bqum"
      },
      "source": [
        "### Use standard hyperparameters to find the most suitable model."
      ]
    },
    {
      "cell_type": "code",
      "execution_count": 237,
      "metadata": {
        "id": "2XmJNoUcJkKX"
      },
      "outputs": [],
      "source": [
        "models_quick_search = {\n",
        "    'LinearRegression': LinearRegression(),\n",
        "    \"DecisionTreeRegressor\": DecisionTreeRegressor(random_state=0),\n",
        "    \"RandomForestRegressor\": RandomForestRegressor(random_state=0),\n",
        "    \"ExtraTreesRegressor\": ExtraTreesRegressor(random_state=0),\n",
        "    \"AdaBoostRegressor\": AdaBoostRegressor(random_state=0),\n",
        "    \"GradientBoostingRegressor\": GradientBoostingRegressor(random_state=0),\n",
        "    \"XGBRegressor\": XGBRegressor(random_state=0),\n",
        "}\n",
        "\n",
        "params_quick_search = {\n",
        "    'LinearRegression': {},\n",
        "    \"DecisionTreeRegressor\": {},\n",
        "    \"RandomForestRegressor\": {},\n",
        "    \"ExtraTreesRegressor\": {},\n",
        "    \"AdaBoostRegressor\": {},\n",
        "    \"GradientBoostingRegressor\": {},\n",
        "    \"XGBRegressor\": {},\n",
        "}\n"
      ]
    },
    {
      "cell_type": "markdown",
      "metadata": {
        "id": "Jq8td65fJkKY"
      },
      "source": [
        "Do a quick optimisation search "
      ]
    },
    {
      "cell_type": "code",
      "execution_count": 238,
      "metadata": {
        "id": "s1BdqEB6JkKZ"
      },
      "outputs": [
        {
          "name": "stdout",
          "output_type": "stream",
          "text": [
            "\n",
            "Running GridSearchCV for LinearRegression \n",
            "\n",
            "Fitting 5 folds for each of 1 candidates, totalling 5 fits\n",
            "\n",
            "Running GridSearchCV for DecisionTreeRegressor \n",
            "\n",
            "Fitting 5 folds for each of 1 candidates, totalling 5 fits\n",
            "\n",
            "Running GridSearchCV for RandomForestRegressor \n",
            "\n",
            "Fitting 5 folds for each of 1 candidates, totalling 5 fits\n",
            "\n",
            "Running GridSearchCV for ExtraTreesRegressor \n",
            "\n",
            "Fitting 5 folds for each of 1 candidates, totalling 5 fits\n",
            "\n",
            "Running GridSearchCV for AdaBoostRegressor \n",
            "\n",
            "Fitting 5 folds for each of 1 candidates, totalling 5 fits\n",
            "\n",
            "Running GridSearchCV for GradientBoostingRegressor \n",
            "\n",
            "Fitting 5 folds for each of 1 candidates, totalling 5 fits\n",
            "\n",
            "Running GridSearchCV for XGBRegressor \n",
            "\n",
            "Fitting 5 folds for each of 1 candidates, totalling 5 fits\n"
          ]
        }
      ],
      "source": [
        "quick_search = HyperparameterOptimizationSearch(models=models_quick_search, params=params_quick_search)\n",
        "quick_search.fit(X_train, y_train, scoring='r2', n_jobs=-1, cv=5)"
      ]
    },
    {
      "cell_type": "markdown",
      "metadata": {
        "id": "zQ_Xj5oGJkKZ"
      },
      "source": [
        "Check results"
      ]
    },
    {
      "cell_type": "code",
      "execution_count": null,
      "metadata": {
        "id": "vIC2csxKJkKZ"
      },
      "outputs": [
        {
          "data": {
            "text/html": [
              "<div>\n",
              "<style scoped>\n",
              "    .dataframe tbody tr th:only-of-type {\n",
              "        vertical-align: middle;\n",
              "    }\n",
              "\n",
              "    .dataframe tbody tr th {\n",
              "        vertical-align: top;\n",
              "    }\n",
              "\n",
              "    .dataframe thead th {\n",
              "        text-align: right;\n",
              "    }\n",
              "</style>\n",
              "<table border=\"1\" class=\"dataframe\">\n",
              "  <thead>\n",
              "    <tr style=\"text-align: right;\">\n",
              "      <th></th>\n",
              "      <th>estimator</th>\n",
              "      <th>min_score</th>\n",
              "      <th>mean_score</th>\n",
              "      <th>max_score</th>\n",
              "      <th>std_score</th>\n",
              "    </tr>\n",
              "  </thead>\n",
              "  <tbody>\n",
              "    <tr>\n",
              "      <th>2</th>\n",
              "      <td>RandomForestRegressor</td>\n",
              "      <td>0.723499</td>\n",
              "      <td>0.76841</td>\n",
              "      <td>0.80392</td>\n",
              "      <td>0.0354</td>\n",
              "    </tr>\n",
              "    <tr>\n",
              "      <th>3</th>\n",
              "      <td>ExtraTreesRegressor</td>\n",
              "      <td>0.632353</td>\n",
              "      <td>0.756972</td>\n",
              "      <td>0.820373</td>\n",
              "      <td>0.071552</td>\n",
              "    </tr>\n",
              "    <tr>\n",
              "      <th>0</th>\n",
              "      <td>LinearRegression</td>\n",
              "      <td>0.665615</td>\n",
              "      <td>0.743441</td>\n",
              "      <td>0.781792</td>\n",
              "      <td>0.044411</td>\n",
              "    </tr>\n",
              "    <tr>\n",
              "      <th>5</th>\n",
              "      <td>GradientBoostingRegressor</td>\n",
              "      <td>0.625964</td>\n",
              "      <td>0.743202</td>\n",
              "      <td>0.806959</td>\n",
              "      <td>0.070841</td>\n",
              "    </tr>\n",
              "    <tr>\n",
              "      <th>6</th>\n",
              "      <td>XGBRegressor</td>\n",
              "      <td>0.632752</td>\n",
              "      <td>0.734817</td>\n",
              "      <td>0.787178</td>\n",
              "      <td>0.058974</td>\n",
              "    </tr>\n",
              "    <tr>\n",
              "      <th>4</th>\n",
              "      <td>AdaBoostRegressor</td>\n",
              "      <td>0.649668</td>\n",
              "      <td>0.717199</td>\n",
              "      <td>0.765622</td>\n",
              "      <td>0.040909</td>\n",
              "    </tr>\n",
              "    <tr>\n",
              "      <th>1</th>\n",
              "      <td>DecisionTreeRegressor</td>\n",
              "      <td>0.374887</td>\n",
              "      <td>0.578911</td>\n",
              "      <td>0.684701</td>\n",
              "      <td>0.107449</td>\n",
              "    </tr>\n",
              "  </tbody>\n",
              "</table>\n",
              "</div>"
            ],
            "text/plain": [
              "                   estimator min_score mean_score max_score std_score\n",
              "2      RandomForestRegressor  0.723499    0.76841   0.80392    0.0354\n",
              "3        ExtraTreesRegressor  0.632353   0.756972  0.820373  0.071552\n",
              "0           LinearRegression  0.665615   0.743441  0.781792  0.044411\n",
              "5  GradientBoostingRegressor  0.625964   0.743202  0.806959  0.070841\n",
              "6               XGBRegressor  0.632752   0.734817  0.787178  0.058974\n",
              "4          AdaBoostRegressor  0.649668   0.717199  0.765622  0.040909\n",
              "1      DecisionTreeRegressor  0.374887   0.578911  0.684701  0.107449"
            ]
          },
          "execution_count": 119,
          "metadata": {},
          "output_type": "execute_result"
        },
        {
          "data": {
            "text/html": [
              "<div>\n",
              "<style scoped>\n",
              "    .dataframe tbody tr th:only-of-type {\n",
              "        vertical-align: middle;\n",
              "    }\n",
              "\n",
              "    .dataframe tbody tr th {\n",
              "        vertical-align: top;\n",
              "    }\n",
              "\n",
              "    .dataframe thead th {\n",
              "        text-align: right;\n",
              "    }\n",
              "</style>\n",
              "<table border=\"1\" class=\"dataframe\">\n",
              "  <thead>\n",
              "    <tr style=\"text-align: right;\">\n",
              "      <th></th>\n",
              "      <th>estimator</th>\n",
              "      <th>min_score</th>\n",
              "      <th>mean_score</th>\n",
              "      <th>max_score</th>\n",
              "      <th>std_score</th>\n",
              "    </tr>\n",
              "  </thead>\n",
              "  <tbody>\n",
              "    <tr>\n",
              "      <th>2</th>\n",
              "      <td>RandomForestRegressor</td>\n",
              "      <td>0.723499</td>\n",
              "      <td>0.76841</td>\n",
              "      <td>0.80392</td>\n",
              "      <td>0.0354</td>\n",
              "    </tr>\n",
              "    <tr>\n",
              "      <th>3</th>\n",
              "      <td>ExtraTreesRegressor</td>\n",
              "      <td>0.632353</td>\n",
              "      <td>0.756972</td>\n",
              "      <td>0.820373</td>\n",
              "      <td>0.071552</td>\n",
              "    </tr>\n",
              "    <tr>\n",
              "      <th>0</th>\n",
              "      <td>LinearRegression</td>\n",
              "      <td>0.665615</td>\n",
              "      <td>0.743441</td>\n",
              "      <td>0.781792</td>\n",
              "      <td>0.044411</td>\n",
              "    </tr>\n",
              "    <tr>\n",
              "      <th>5</th>\n",
              "      <td>GradientBoostingRegressor</td>\n",
              "      <td>0.625964</td>\n",
              "      <td>0.743202</td>\n",
              "      <td>0.806959</td>\n",
              "      <td>0.070841</td>\n",
              "    </tr>\n",
              "    <tr>\n",
              "      <th>6</th>\n",
              "      <td>XGBRegressor</td>\n",
              "      <td>0.632752</td>\n",
              "      <td>0.734817</td>\n",
              "      <td>0.787178</td>\n",
              "      <td>0.058974</td>\n",
              "    </tr>\n",
              "    <tr>\n",
              "      <th>4</th>\n",
              "      <td>AdaBoostRegressor</td>\n",
              "      <td>0.649668</td>\n",
              "      <td>0.717199</td>\n",
              "      <td>0.765622</td>\n",
              "      <td>0.040909</td>\n",
              "    </tr>\n",
              "    <tr>\n",
              "      <th>1</th>\n",
              "      <td>DecisionTreeRegressor</td>\n",
              "      <td>0.374887</td>\n",
              "      <td>0.578911</td>\n",
              "      <td>0.684701</td>\n",
              "      <td>0.107449</td>\n",
              "    </tr>\n",
              "  </tbody>\n",
              "</table>\n",
              "</div>"
            ],
            "text/plain": [
              "                   estimator min_score mean_score max_score std_score\n",
              "2      RandomForestRegressor  0.723499    0.76841   0.80392    0.0354\n",
              "3        ExtraTreesRegressor  0.632353   0.756972  0.820373  0.071552\n",
              "0           LinearRegression  0.665615   0.743441  0.781792  0.044411\n",
              "5  GradientBoostingRegressor  0.625964   0.743202  0.806959  0.070841\n",
              "6               XGBRegressor  0.632752   0.734817  0.787178  0.058974\n",
              "4          AdaBoostRegressor  0.649668   0.717199  0.765622  0.040909\n",
              "1      DecisionTreeRegressor  0.374887   0.578911  0.684701  0.107449"
            ]
          },
          "execution_count": 239,
          "metadata": {},
          "output_type": "execute_result"
        }
      ],
      "source": [
        "grid_search_summary, grid_search_pipelines = quick_search.score_summary(sort_by='mean_score')\n",
        "grid_search_summary"
      ]
    },
    {
      "cell_type": "markdown",
      "metadata": {
        "id": "383vOhJZBwza"
      },
      "source": [
        "### Do an extensive search on the most suitable model to find the best hyperparameter configuration."
      ]
    },
    {
      "cell_type": "markdown",
      "metadata": {
        "id": "PrcbiQHlB9QT"
      },
      "source": [
        "Define model and parameters for extensive search"
      ]
    },
    {
      "cell_type": "code",
      "execution_count": null,
      "metadata": {
        "id": "S7t-fum6B9QU"
      },
      "outputs": [],
      "source": [
        "from sklearn.ensemble import RandomForestRegressor\n",
        "\n",
        "models_search_pca = {\n",
        "    \"RandomForestRegressor\": RandomForestRegressor(random_state=0),\n",
        "}\n",
        "\n",
        "params_search = {\n",
        "    \"RandomForestRegressor\": {\n",
        "        'model__n_estimators': [100, 300],\n",
        "        'model__max_depth': [10, None],\n",
        "        'model__min_samples_split': [2, 5],\n",
        "        'model__min_samples_leaf': [1, 2],\n",
        "        'model__max_features': ['sqrt', 0.5]\n",
        "    }\n",
        "}"
      ]
    },
    {
      "cell_type": "markdown",
      "metadata": {
        "id": "Jvt-IOmHB9QU"
      },
      "source": [
        "Extensive GridSearch CV"
      ]
    },
    {
      "cell_type": "code",
      "execution_count": null,
      "metadata": {
        "id": "eXbTwW1UB9QV"
      },
      "outputs": [
        {
          "name": "stdout",
          "output_type": "stream",
          "text": [
            "\n",
            "Running GridSearchCV for RandomForestRegressor \n",
            "\n",
            "Fitting 5 folds for each of 32 candidates, totalling 160 fits\n"
          ]
        }
      ],
      "source": [
        "search = HyperparameterOptimizationSearch(models=models_search_pca, params=params_search)\n",
        "search.fit(X_train, y_train, scoring = 'r2', n_jobs=-1, cv=5)"
      ]
    },
    {
      "cell_type": "markdown",
      "metadata": {
        "id": "TVUDzRSGB9QV"
      },
      "source": [
        "Check results"
      ]
    },
    {
      "cell_type": "code",
      "execution_count": null,
      "metadata": {
        "id": "5ZfOdh5kB9QW"
      },
      "outputs": [
        {
          "data": {
            "text/html": [
              "<div>\n",
              "<style scoped>\n",
              "    .dataframe tbody tr th:only-of-type {\n",
              "        vertical-align: middle;\n",
              "    }\n",
              "\n",
              "    .dataframe tbody tr th {\n",
              "        vertical-align: top;\n",
              "    }\n",
              "\n",
              "    .dataframe thead th {\n",
              "        text-align: right;\n",
              "    }\n",
              "</style>\n",
              "<table border=\"1\" class=\"dataframe\">\n",
              "  <thead>\n",
              "    <tr style=\"text-align: right;\">\n",
              "      <th></th>\n",
              "      <th>estimator</th>\n",
              "      <th>min_score</th>\n",
              "      <th>mean_score</th>\n",
              "      <th>max_score</th>\n",
              "      <th>std_score</th>\n",
              "      <th>model__max_depth</th>\n",
              "      <th>model__max_features</th>\n",
              "      <th>model__min_samples_leaf</th>\n",
              "      <th>model__min_samples_split</th>\n",
              "      <th>model__n_estimators</th>\n",
              "    </tr>\n",
              "  </thead>\n",
              "  <tbody>\n",
              "    <tr>\n",
              "      <th>29</th>\n",
              "      <td>RandomForestRegressor</td>\n",
              "      <td>0.742462</td>\n",
              "      <td>0.772639</td>\n",
              "      <td>0.807502</td>\n",
              "      <td>0.026101</td>\n",
              "      <td>None</td>\n",
              "      <td>0.5</td>\n",
              "      <td>2</td>\n",
              "      <td>2</td>\n",
              "      <td>300</td>\n",
              "    </tr>\n",
              "    <tr>\n",
              "      <th>11</th>\n",
              "      <td>RandomForestRegressor</td>\n",
              "      <td>0.743307</td>\n",
              "      <td>0.77217</td>\n",
              "      <td>0.811542</td>\n",
              "      <td>0.028707</td>\n",
              "      <td>10</td>\n",
              "      <td>0.5</td>\n",
              "      <td>1</td>\n",
              "      <td>5</td>\n",
              "      <td>300</td>\n",
              "    </tr>\n",
              "    <tr>\n",
              "      <th>9</th>\n",
              "      <td>RandomForestRegressor</td>\n",
              "      <td>0.744792</td>\n",
              "      <td>0.771587</td>\n",
              "      <td>0.812413</td>\n",
              "      <td>0.027873</td>\n",
              "      <td>10</td>\n",
              "      <td>0.5</td>\n",
              "      <td>1</td>\n",
              "      <td>2</td>\n",
              "      <td>300</td>\n",
              "    </tr>\n",
              "    <tr>\n",
              "      <th>10</th>\n",
              "      <td>RandomForestRegressor</td>\n",
              "      <td>0.737634</td>\n",
              "      <td>0.771566</td>\n",
              "      <td>0.812764</td>\n",
              "      <td>0.031081</td>\n",
              "      <td>10</td>\n",
              "      <td>0.5</td>\n",
              "      <td>1</td>\n",
              "      <td>5</td>\n",
              "      <td>100</td>\n",
              "    </tr>\n",
              "    <tr>\n",
              "      <th>25</th>\n",
              "      <td>RandomForestRegressor</td>\n",
              "      <td>0.746088</td>\n",
              "      <td>0.771512</td>\n",
              "      <td>0.809907</td>\n",
              "      <td>0.028612</td>\n",
              "      <td>None</td>\n",
              "      <td>0.5</td>\n",
              "      <td>1</td>\n",
              "      <td>2</td>\n",
              "      <td>300</td>\n",
              "    </tr>\n",
              "    <tr>\n",
              "      <th>15</th>\n",
              "      <td>RandomForestRegressor</td>\n",
              "      <td>0.740668</td>\n",
              "      <td>0.771355</td>\n",
              "      <td>0.808498</td>\n",
              "      <td>0.026366</td>\n",
              "      <td>10</td>\n",
              "      <td>0.5</td>\n",
              "      <td>2</td>\n",
              "      <td>5</td>\n",
              "      <td>300</td>\n",
              "    </tr>\n",
              "    <tr>\n",
              "      <th>27</th>\n",
              "      <td>RandomForestRegressor</td>\n",
              "      <td>0.741055</td>\n",
              "      <td>0.77124</td>\n",
              "      <td>0.810307</td>\n",
              "      <td>0.027433</td>\n",
              "      <td>None</td>\n",
              "      <td>0.5</td>\n",
              "      <td>1</td>\n",
              "      <td>5</td>\n",
              "      <td>300</td>\n",
              "    </tr>\n",
              "    <tr>\n",
              "      <th>28</th>\n",
              "      <td>RandomForestRegressor</td>\n",
              "      <td>0.734961</td>\n",
              "      <td>0.771114</td>\n",
              "      <td>0.805158</td>\n",
              "      <td>0.027703</td>\n",
              "      <td>None</td>\n",
              "      <td>0.5</td>\n",
              "      <td>2</td>\n",
              "      <td>2</td>\n",
              "      <td>100</td>\n",
              "    </tr>\n",
              "    <tr>\n",
              "      <th>26</th>\n",
              "      <td>RandomForestRegressor</td>\n",
              "      <td>0.737243</td>\n",
              "      <td>0.771034</td>\n",
              "      <td>0.806681</td>\n",
              "      <td>0.02855</td>\n",
              "      <td>None</td>\n",
              "      <td>0.5</td>\n",
              "      <td>1</td>\n",
              "      <td>5</td>\n",
              "      <td>100</td>\n",
              "    </tr>\n",
              "    <tr>\n",
              "      <th>8</th>\n",
              "      <td>RandomForestRegressor</td>\n",
              "      <td>0.740113</td>\n",
              "      <td>0.770995</td>\n",
              "      <td>0.814891</td>\n",
              "      <td>0.030659</td>\n",
              "      <td>10</td>\n",
              "      <td>0.5</td>\n",
              "      <td>1</td>\n",
              "      <td>2</td>\n",
              "      <td>100</td>\n",
              "    </tr>\n",
              "    <tr>\n",
              "      <th>30</th>\n",
              "      <td>RandomForestRegressor</td>\n",
              "      <td>0.734708</td>\n",
              "      <td>0.770926</td>\n",
              "      <td>0.806268</td>\n",
              "      <td>0.028418</td>\n",
              "      <td>None</td>\n",
              "      <td>0.5</td>\n",
              "      <td>2</td>\n",
              "      <td>5</td>\n",
              "      <td>100</td>\n",
              "    </tr>\n",
              "    <tr>\n",
              "      <th>31</th>\n",
              "      <td>RandomForestRegressor</td>\n",
              "      <td>0.734128</td>\n",
              "      <td>0.770544</td>\n",
              "      <td>0.807716</td>\n",
              "      <td>0.028607</td>\n",
              "      <td>None</td>\n",
              "      <td>0.5</td>\n",
              "      <td>2</td>\n",
              "      <td>5</td>\n",
              "      <td>300</td>\n",
              "    </tr>\n",
              "    <tr>\n",
              "      <th>13</th>\n",
              "      <td>RandomForestRegressor</td>\n",
              "      <td>0.741413</td>\n",
              "      <td>0.770109</td>\n",
              "      <td>0.802673</td>\n",
              "      <td>0.025178</td>\n",
              "      <td>10</td>\n",
              "      <td>0.5</td>\n",
              "      <td>2</td>\n",
              "      <td>2</td>\n",
              "      <td>300</td>\n",
              "    </tr>\n",
              "    <tr>\n",
              "      <th>12</th>\n",
              "      <td>RandomForestRegressor</td>\n",
              "      <td>0.738167</td>\n",
              "      <td>0.769211</td>\n",
              "      <td>0.800277</td>\n",
              "      <td>0.025544</td>\n",
              "      <td>10</td>\n",
              "      <td>0.5</td>\n",
              "      <td>2</td>\n",
              "      <td>2</td>\n",
              "      <td>100</td>\n",
              "    </tr>\n",
              "    <tr>\n",
              "      <th>14</th>\n",
              "      <td>RandomForestRegressor</td>\n",
              "      <td>0.729685</td>\n",
              "      <td>0.769035</td>\n",
              "      <td>0.805636</td>\n",
              "      <td>0.029403</td>\n",
              "      <td>10</td>\n",
              "      <td>0.5</td>\n",
              "      <td>2</td>\n",
              "      <td>5</td>\n",
              "      <td>100</td>\n",
              "    </tr>\n",
              "    <tr>\n",
              "      <th>24</th>\n",
              "      <td>RandomForestRegressor</td>\n",
              "      <td>0.740099</td>\n",
              "      <td>0.768857</td>\n",
              "      <td>0.809505</td>\n",
              "      <td>0.030245</td>\n",
              "      <td>None</td>\n",
              "      <td>0.5</td>\n",
              "      <td>1</td>\n",
              "      <td>2</td>\n",
              "      <td>100</td>\n",
              "    </tr>\n",
              "    <tr>\n",
              "      <th>17</th>\n",
              "      <td>RandomForestRegressor</td>\n",
              "      <td>0.719991</td>\n",
              "      <td>0.75936</td>\n",
              "      <td>0.796946</td>\n",
              "      <td>0.031201</td>\n",
              "      <td>None</td>\n",
              "      <td>sqrt</td>\n",
              "      <td>1</td>\n",
              "      <td>2</td>\n",
              "      <td>300</td>\n",
              "    </tr>\n",
              "    <tr>\n",
              "      <th>21</th>\n",
              "      <td>RandomForestRegressor</td>\n",
              "      <td>0.721978</td>\n",
              "      <td>0.757702</td>\n",
              "      <td>0.786733</td>\n",
              "      <td>0.025829</td>\n",
              "      <td>None</td>\n",
              "      <td>sqrt</td>\n",
              "      <td>2</td>\n",
              "      <td>2</td>\n",
              "      <td>300</td>\n",
              "    </tr>\n",
              "    <tr>\n",
              "      <th>19</th>\n",
              "      <td>RandomForestRegressor</td>\n",
              "      <td>0.717383</td>\n",
              "      <td>0.756746</td>\n",
              "      <td>0.788889</td>\n",
              "      <td>0.027711</td>\n",
              "      <td>None</td>\n",
              "      <td>sqrt</td>\n",
              "      <td>1</td>\n",
              "      <td>5</td>\n",
              "      <td>300</td>\n",
              "    </tr>\n",
              "    <tr>\n",
              "      <th>23</th>\n",
              "      <td>RandomForestRegressor</td>\n",
              "      <td>0.713812</td>\n",
              "      <td>0.754366</td>\n",
              "      <td>0.78697</td>\n",
              "      <td>0.027142</td>\n",
              "      <td>None</td>\n",
              "      <td>sqrt</td>\n",
              "      <td>2</td>\n",
              "      <td>5</td>\n",
              "      <td>300</td>\n",
              "    </tr>\n",
              "    <tr>\n",
              "      <th>16</th>\n",
              "      <td>RandomForestRegressor</td>\n",
              "      <td>0.700311</td>\n",
              "      <td>0.753016</td>\n",
              "      <td>0.795695</td>\n",
              "      <td>0.037159</td>\n",
              "      <td>None</td>\n",
              "      <td>sqrt</td>\n",
              "      <td>1</td>\n",
              "      <td>2</td>\n",
              "      <td>100</td>\n",
              "    </tr>\n",
              "    <tr>\n",
              "      <th>22</th>\n",
              "      <td>RandomForestRegressor</td>\n",
              "      <td>0.705238</td>\n",
              "      <td>0.751748</td>\n",
              "      <td>0.783273</td>\n",
              "      <td>0.030241</td>\n",
              "      <td>None</td>\n",
              "      <td>sqrt</td>\n",
              "      <td>2</td>\n",
              "      <td>5</td>\n",
              "      <td>100</td>\n",
              "    </tr>\n",
              "    <tr>\n",
              "      <th>18</th>\n",
              "      <td>RandomForestRegressor</td>\n",
              "      <td>0.714694</td>\n",
              "      <td>0.751232</td>\n",
              "      <td>0.784416</td>\n",
              "      <td>0.028358</td>\n",
              "      <td>None</td>\n",
              "      <td>sqrt</td>\n",
              "      <td>1</td>\n",
              "      <td>5</td>\n",
              "      <td>100</td>\n",
              "    </tr>\n",
              "    <tr>\n",
              "      <th>5</th>\n",
              "      <td>RandomForestRegressor</td>\n",
              "      <td>0.71021</td>\n",
              "      <td>0.751197</td>\n",
              "      <td>0.780731</td>\n",
              "      <td>0.027388</td>\n",
              "      <td>10</td>\n",
              "      <td>sqrt</td>\n",
              "      <td>2</td>\n",
              "      <td>2</td>\n",
              "      <td>300</td>\n",
              "    </tr>\n",
              "    <tr>\n",
              "      <th>20</th>\n",
              "      <td>RandomForestRegressor</td>\n",
              "      <td>0.71965</td>\n",
              "      <td>0.751124</td>\n",
              "      <td>0.782559</td>\n",
              "      <td>0.025659</td>\n",
              "      <td>None</td>\n",
              "      <td>sqrt</td>\n",
              "      <td>2</td>\n",
              "      <td>2</td>\n",
              "      <td>100</td>\n",
              "    </tr>\n",
              "    <tr>\n",
              "      <th>3</th>\n",
              "      <td>RandomForestRegressor</td>\n",
              "      <td>0.713375</td>\n",
              "      <td>0.74996</td>\n",
              "      <td>0.786576</td>\n",
              "      <td>0.027563</td>\n",
              "      <td>10</td>\n",
              "      <td>sqrt</td>\n",
              "      <td>1</td>\n",
              "      <td>5</td>\n",
              "      <td>300</td>\n",
              "    </tr>\n",
              "    <tr>\n",
              "      <th>1</th>\n",
              "      <td>RandomForestRegressor</td>\n",
              "      <td>0.712886</td>\n",
              "      <td>0.749799</td>\n",
              "      <td>0.78496</td>\n",
              "      <td>0.029635</td>\n",
              "      <td>10</td>\n",
              "      <td>sqrt</td>\n",
              "      <td>1</td>\n",
              "      <td>2</td>\n",
              "      <td>300</td>\n",
              "    </tr>\n",
              "    <tr>\n",
              "      <th>7</th>\n",
              "      <td>RandomForestRegressor</td>\n",
              "      <td>0.709513</td>\n",
              "      <td>0.748279</td>\n",
              "      <td>0.776139</td>\n",
              "      <td>0.026629</td>\n",
              "      <td>10</td>\n",
              "      <td>sqrt</td>\n",
              "      <td>2</td>\n",
              "      <td>5</td>\n",
              "      <td>300</td>\n",
              "    </tr>\n",
              "    <tr>\n",
              "      <th>6</th>\n",
              "      <td>RandomForestRegressor</td>\n",
              "      <td>0.705937</td>\n",
              "      <td>0.744924</td>\n",
              "      <td>0.784279</td>\n",
              "      <td>0.027867</td>\n",
              "      <td>10</td>\n",
              "      <td>sqrt</td>\n",
              "      <td>2</td>\n",
              "      <td>5</td>\n",
              "      <td>100</td>\n",
              "    </tr>\n",
              "    <tr>\n",
              "      <th>2</th>\n",
              "      <td>RandomForestRegressor</td>\n",
              "      <td>0.703808</td>\n",
              "      <td>0.744766</td>\n",
              "      <td>0.783889</td>\n",
              "      <td>0.028945</td>\n",
              "      <td>10</td>\n",
              "      <td>sqrt</td>\n",
              "      <td>1</td>\n",
              "      <td>5</td>\n",
              "      <td>100</td>\n",
              "    </tr>\n",
              "    <tr>\n",
              "      <th>0</th>\n",
              "      <td>RandomForestRegressor</td>\n",
              "      <td>0.708224</td>\n",
              "      <td>0.744732</td>\n",
              "      <td>0.786144</td>\n",
              "      <td>0.029912</td>\n",
              "      <td>10</td>\n",
              "      <td>sqrt</td>\n",
              "      <td>1</td>\n",
              "      <td>2</td>\n",
              "      <td>100</td>\n",
              "    </tr>\n",
              "    <tr>\n",
              "      <th>4</th>\n",
              "      <td>RandomForestRegressor</td>\n",
              "      <td>0.697151</td>\n",
              "      <td>0.744644</td>\n",
              "      <td>0.777289</td>\n",
              "      <td>0.029972</td>\n",
              "      <td>10</td>\n",
              "      <td>sqrt</td>\n",
              "      <td>2</td>\n",
              "      <td>2</td>\n",
              "      <td>100</td>\n",
              "    </tr>\n",
              "  </tbody>\n",
              "</table>\n",
              "</div>"
            ],
            "text/plain": [
              "                estimator min_score mean_score max_score std_score  \\\n",
              "29  RandomForestRegressor  0.742462   0.772639  0.807502  0.026101   \n",
              "11  RandomForestRegressor  0.743307    0.77217  0.811542  0.028707   \n",
              "9   RandomForestRegressor  0.744792   0.771587  0.812413  0.027873   \n",
              "10  RandomForestRegressor  0.737634   0.771566  0.812764  0.031081   \n",
              "25  RandomForestRegressor  0.746088   0.771512  0.809907  0.028612   \n",
              "15  RandomForestRegressor  0.740668   0.771355  0.808498  0.026366   \n",
              "27  RandomForestRegressor  0.741055    0.77124  0.810307  0.027433   \n",
              "28  RandomForestRegressor  0.734961   0.771114  0.805158  0.027703   \n",
              "26  RandomForestRegressor  0.737243   0.771034  0.806681   0.02855   \n",
              "8   RandomForestRegressor  0.740113   0.770995  0.814891  0.030659   \n",
              "30  RandomForestRegressor  0.734708   0.770926  0.806268  0.028418   \n",
              "31  RandomForestRegressor  0.734128   0.770544  0.807716  0.028607   \n",
              "13  RandomForestRegressor  0.741413   0.770109  0.802673  0.025178   \n",
              "12  RandomForestRegressor  0.738167   0.769211  0.800277  0.025544   \n",
              "14  RandomForestRegressor  0.729685   0.769035  0.805636  0.029403   \n",
              "24  RandomForestRegressor  0.740099   0.768857  0.809505  0.030245   \n",
              "17  RandomForestRegressor  0.719991    0.75936  0.796946  0.031201   \n",
              "21  RandomForestRegressor  0.721978   0.757702  0.786733  0.025829   \n",
              "19  RandomForestRegressor  0.717383   0.756746  0.788889  0.027711   \n",
              "23  RandomForestRegressor  0.713812   0.754366   0.78697  0.027142   \n",
              "16  RandomForestRegressor  0.700311   0.753016  0.795695  0.037159   \n",
              "22  RandomForestRegressor  0.705238   0.751748  0.783273  0.030241   \n",
              "18  RandomForestRegressor  0.714694   0.751232  0.784416  0.028358   \n",
              "5   RandomForestRegressor   0.71021   0.751197  0.780731  0.027388   \n",
              "20  RandomForestRegressor   0.71965   0.751124  0.782559  0.025659   \n",
              "3   RandomForestRegressor  0.713375    0.74996  0.786576  0.027563   \n",
              "1   RandomForestRegressor  0.712886   0.749799   0.78496  0.029635   \n",
              "7   RandomForestRegressor  0.709513   0.748279  0.776139  0.026629   \n",
              "6   RandomForestRegressor  0.705937   0.744924  0.784279  0.027867   \n",
              "2   RandomForestRegressor  0.703808   0.744766  0.783889  0.028945   \n",
              "0   RandomForestRegressor  0.708224   0.744732  0.786144  0.029912   \n",
              "4   RandomForestRegressor  0.697151   0.744644  0.777289  0.029972   \n",
              "\n",
              "   model__max_depth model__max_features model__min_samples_leaf  \\\n",
              "29             None                 0.5                       2   \n",
              "11               10                 0.5                       1   \n",
              "9                10                 0.5                       1   \n",
              "10               10                 0.5                       1   \n",
              "25             None                 0.5                       1   \n",
              "15               10                 0.5                       2   \n",
              "27             None                 0.5                       1   \n",
              "28             None                 0.5                       2   \n",
              "26             None                 0.5                       1   \n",
              "8                10                 0.5                       1   \n",
              "30             None                 0.5                       2   \n",
              "31             None                 0.5                       2   \n",
              "13               10                 0.5                       2   \n",
              "12               10                 0.5                       2   \n",
              "14               10                 0.5                       2   \n",
              "24             None                 0.5                       1   \n",
              "17             None                sqrt                       1   \n",
              "21             None                sqrt                       2   \n",
              "19             None                sqrt                       1   \n",
              "23             None                sqrt                       2   \n",
              "16             None                sqrt                       1   \n",
              "22             None                sqrt                       2   \n",
              "18             None                sqrt                       1   \n",
              "5                10                sqrt                       2   \n",
              "20             None                sqrt                       2   \n",
              "3                10                sqrt                       1   \n",
              "1                10                sqrt                       1   \n",
              "7                10                sqrt                       2   \n",
              "6                10                sqrt                       2   \n",
              "2                10                sqrt                       1   \n",
              "0                10                sqrt                       1   \n",
              "4                10                sqrt                       2   \n",
              "\n",
              "   model__min_samples_split model__n_estimators  \n",
              "29                        2                 300  \n",
              "11                        5                 300  \n",
              "9                         2                 300  \n",
              "10                        5                 100  \n",
              "25                        2                 300  \n",
              "15                        5                 300  \n",
              "27                        5                 300  \n",
              "28                        2                 100  \n",
              "26                        5                 100  \n",
              "8                         2                 100  \n",
              "30                        5                 100  \n",
              "31                        5                 300  \n",
              "13                        2                 300  \n",
              "12                        2                 100  \n",
              "14                        5                 100  \n",
              "24                        2                 100  \n",
              "17                        2                 300  \n",
              "21                        2                 300  \n",
              "19                        5                 300  \n",
              "23                        5                 300  \n",
              "16                        2                 100  \n",
              "22                        5                 100  \n",
              "18                        5                 100  \n",
              "5                         2                 300  \n",
              "20                        2                 100  \n",
              "3                         5                 300  \n",
              "1                         2                 300  \n",
              "7                         5                 300  \n",
              "6                         5                 100  \n",
              "2                         5                 100  \n",
              "0                         2                 100  \n",
              "4                         2                 100  "
            ]
          },
          "execution_count": 122,
          "metadata": {},
          "output_type": "execute_result"
        }
      ],
      "source": [
        "grid_search_summary, grid_search_pipelines = search.score_summary(sort_by='mean_score')\n",
        "grid_search_summary"
      ]
    },
    {
      "cell_type": "markdown",
      "metadata": {
        "id": "CgoLo5C8B9QW"
      },
      "source": [
        "Check the best model"
      ]
    },
    {
      "cell_type": "code",
      "execution_count": null,
      "metadata": {
        "id": "C3UGYjpcB9QW"
      },
      "outputs": [
        {
          "data": {
            "text/plain": [
              "'RandomForestRegressor'"
            ]
          },
          "execution_count": 143,
          "metadata": {},
          "output_type": "execute_result"
        }
      ],
      "source": [
        "best_model_pca = grid_search_summary.iloc[0,0]\n",
        "best_model_pca"
      ]
    },
    {
      "cell_type": "markdown",
      "metadata": {
        "id": "bjY2MdBNB9QX"
      },
      "source": [
        "Parameters for best model"
      ]
    },
    {
      "cell_type": "code",
      "execution_count": null,
      "metadata": {
        "id": "Uspihv71B9QX"
      },
      "outputs": [
        {
          "data": {
            "text/plain": [
              "{'model__max_depth': None,\n",
              " 'model__max_features': 0.5,\n",
              " 'model__min_samples_leaf': 2,\n",
              " 'model__min_samples_split': 2,\n",
              " 'model__n_estimators': 300}"
            ]
          },
          "execution_count": 144,
          "metadata": {},
          "output_type": "execute_result"
        }
      ],
      "source": [
        "grid_search_pipelines[best_model_pca].best_params_\n"
      ]
    },
    {
      "cell_type": "markdown",
      "metadata": {
        "id": "-8HonhniB9QX"
      },
      "source": [
        "Define the best regressor"
      ]
    },
    {
      "cell_type": "code",
      "execution_count": null,
      "metadata": {
        "id": "DC8U4skKB9QY"
      },
      "outputs": [
        {
          "data": {
            "text/html": [
              "<style>#sk-container-id-14 {color: black;}#sk-container-id-14 pre{padding: 0;}#sk-container-id-14 div.sk-toggleable {background-color: white;}#sk-container-id-14 label.sk-toggleable__label {cursor: pointer;display: block;width: 100%;margin-bottom: 0;padding: 0.3em;box-sizing: border-box;text-align: center;}#sk-container-id-14 label.sk-toggleable__label-arrow:before {content: \"▸\";float: left;margin-right: 0.25em;color: #696969;}#sk-container-id-14 label.sk-toggleable__label-arrow:hover:before {color: black;}#sk-container-id-14 div.sk-estimator:hover label.sk-toggleable__label-arrow:before {color: black;}#sk-container-id-14 div.sk-toggleable__content {max-height: 0;max-width: 0;overflow: hidden;text-align: left;background-color: #f0f8ff;}#sk-container-id-14 div.sk-toggleable__content pre {margin: 0.2em;color: black;border-radius: 0.25em;background-color: #f0f8ff;}#sk-container-id-14 input.sk-toggleable__control:checked~div.sk-toggleable__content {max-height: 200px;max-width: 100%;overflow: auto;}#sk-container-id-14 input.sk-toggleable__control:checked~label.sk-toggleable__label-arrow:before {content: \"▾\";}#sk-container-id-14 div.sk-estimator input.sk-toggleable__control:checked~label.sk-toggleable__label {background-color: #d4ebff;}#sk-container-id-14 div.sk-label input.sk-toggleable__control:checked~label.sk-toggleable__label {background-color: #d4ebff;}#sk-container-id-14 input.sk-hidden--visually {border: 0;clip: rect(1px 1px 1px 1px);clip: rect(1px, 1px, 1px, 1px);height: 1px;margin: -1px;overflow: hidden;padding: 0;position: absolute;width: 1px;}#sk-container-id-14 div.sk-estimator {font-family: monospace;background-color: #f0f8ff;border: 1px dotted black;border-radius: 0.25em;box-sizing: border-box;margin-bottom: 0.5em;}#sk-container-id-14 div.sk-estimator:hover {background-color: #d4ebff;}#sk-container-id-14 div.sk-parallel-item::after {content: \"\";width: 100%;border-bottom: 1px solid gray;flex-grow: 1;}#sk-container-id-14 div.sk-label:hover label.sk-toggleable__label {background-color: #d4ebff;}#sk-container-id-14 div.sk-serial::before {content: \"\";position: absolute;border-left: 1px solid gray;box-sizing: border-box;top: 0;bottom: 0;left: 50%;z-index: 0;}#sk-container-id-14 div.sk-serial {display: flex;flex-direction: column;align-items: center;background-color: white;padding-right: 0.2em;padding-left: 0.2em;position: relative;}#sk-container-id-14 div.sk-item {position: relative;z-index: 1;}#sk-container-id-14 div.sk-parallel {display: flex;align-items: stretch;justify-content: center;background-color: white;position: relative;}#sk-container-id-14 div.sk-item::before, #sk-container-id-14 div.sk-parallel-item::before {content: \"\";position: absolute;border-left: 1px solid gray;box-sizing: border-box;top: 0;bottom: 0;left: 50%;z-index: -1;}#sk-container-id-14 div.sk-parallel-item {display: flex;flex-direction: column;z-index: 1;position: relative;background-color: white;}#sk-container-id-14 div.sk-parallel-item:first-child::after {align-self: flex-end;width: 50%;}#sk-container-id-14 div.sk-parallel-item:last-child::after {align-self: flex-start;width: 50%;}#sk-container-id-14 div.sk-parallel-item:only-child::after {width: 0;}#sk-container-id-14 div.sk-dashed-wrapped {border: 1px dashed gray;margin: 0 0.4em 0.5em 0.4em;box-sizing: border-box;padding-bottom: 0.4em;background-color: white;}#sk-container-id-14 div.sk-label label {font-family: monospace;font-weight: bold;display: inline-block;line-height: 1.2em;}#sk-container-id-14 div.sk-label-container {text-align: center;}#sk-container-id-14 div.sk-container {/* jupyter's `normalize.less` sets `[hidden] { display: none; }` but bootstrap.min.css set `[hidden] { display: none !important; }` so we also need the `!important` here to be able to override the default hidden behavior on the sphinx rendered scikit-learn.org. See: https://github.com/scikit-learn/scikit-learn/issues/21755 */display: inline-block !important;position: relative;}#sk-container-id-14 div.sk-text-repr-fallback {display: none;}</style><div id=\"sk-container-id-14\" class=\"sk-top-container\"><div class=\"sk-text-repr-fallback\"><pre>Pipeline(steps=[(&#x27;OrdinalCategoricalEncoder&#x27;,\n",
              "                 OrdinalEncoder(encoding_method=&#x27;arbitrary&#x27;,\n",
              "                                variables=[&#x27;BsmtExposure&#x27;, &#x27;BsmtFinType1&#x27;,\n",
              "                                           &#x27;GarageFinish&#x27;, &#x27;KitchenQual&#x27;])),\n",
              "                (&#x27;SmartCorrelatedSelection&#x27;,\n",
              "                 SmartCorrelatedSelection(method=&#x27;spearman&#x27;,\n",
              "                                          selection_method=&#x27;variance&#x27;,\n",
              "                                          threshold=0.6)),\n",
              "                (&#x27;feat_scaling&#x27;, StandardScaler()),\n",
              "                (&#x27;PCA&#x27;, PCA(n_components=7, random_state=0)),\n",
              "                (&#x27;model&#x27;,\n",
              "                 RandomForestRegressor(max_features=0.5, min_samples_leaf=2,\n",
              "                                       n_estimators=300, random_state=0))])</pre><b>In a Jupyter environment, please rerun this cell to show the HTML representation or trust the notebook. <br />On GitHub, the HTML representation is unable to render, please try loading this page with nbviewer.org.</b></div><div class=\"sk-container\" hidden><div class=\"sk-item sk-dashed-wrapped\"><div class=\"sk-label-container\"><div class=\"sk-label sk-toggleable\"><input class=\"sk-toggleable__control sk-hidden--visually\" id=\"sk-estimator-id-89\" type=\"checkbox\" ><label for=\"sk-estimator-id-89\" class=\"sk-toggleable__label sk-toggleable__label-arrow\">Pipeline</label><div class=\"sk-toggleable__content\"><pre>Pipeline(steps=[(&#x27;OrdinalCategoricalEncoder&#x27;,\n",
              "                 OrdinalEncoder(encoding_method=&#x27;arbitrary&#x27;,\n",
              "                                variables=[&#x27;BsmtExposure&#x27;, &#x27;BsmtFinType1&#x27;,\n",
              "                                           &#x27;GarageFinish&#x27;, &#x27;KitchenQual&#x27;])),\n",
              "                (&#x27;SmartCorrelatedSelection&#x27;,\n",
              "                 SmartCorrelatedSelection(method=&#x27;spearman&#x27;,\n",
              "                                          selection_method=&#x27;variance&#x27;,\n",
              "                                          threshold=0.6)),\n",
              "                (&#x27;feat_scaling&#x27;, StandardScaler()),\n",
              "                (&#x27;PCA&#x27;, PCA(n_components=7, random_state=0)),\n",
              "                (&#x27;model&#x27;,\n",
              "                 RandomForestRegressor(max_features=0.5, min_samples_leaf=2,\n",
              "                                       n_estimators=300, random_state=0))])</pre></div></div></div><div class=\"sk-serial\"><div class=\"sk-item\"><div class=\"sk-estimator sk-toggleable\"><input class=\"sk-toggleable__control sk-hidden--visually\" id=\"sk-estimator-id-90\" type=\"checkbox\" ><label for=\"sk-estimator-id-90\" class=\"sk-toggleable__label sk-toggleable__label-arrow\">OrdinalEncoder</label><div class=\"sk-toggleable__content\"><pre>OrdinalEncoder(encoding_method=&#x27;arbitrary&#x27;,\n",
              "               variables=[&#x27;BsmtExposure&#x27;, &#x27;BsmtFinType1&#x27;, &#x27;GarageFinish&#x27;,\n",
              "                          &#x27;KitchenQual&#x27;])</pre></div></div></div><div class=\"sk-item\"><div class=\"sk-estimator sk-toggleable\"><input class=\"sk-toggleable__control sk-hidden--visually\" id=\"sk-estimator-id-91\" type=\"checkbox\" ><label for=\"sk-estimator-id-91\" class=\"sk-toggleable__label sk-toggleable__label-arrow\">SmartCorrelatedSelection</label><div class=\"sk-toggleable__content\"><pre>SmartCorrelatedSelection(method=&#x27;spearman&#x27;, selection_method=&#x27;variance&#x27;,\n",
              "                         threshold=0.6)</pre></div></div></div><div class=\"sk-item\"><div class=\"sk-estimator sk-toggleable\"><input class=\"sk-toggleable__control sk-hidden--visually\" id=\"sk-estimator-id-92\" type=\"checkbox\" ><label for=\"sk-estimator-id-92\" class=\"sk-toggleable__label sk-toggleable__label-arrow\">StandardScaler</label><div class=\"sk-toggleable__content\"><pre>StandardScaler()</pre></div></div></div><div class=\"sk-item\"><div class=\"sk-estimator sk-toggleable\"><input class=\"sk-toggleable__control sk-hidden--visually\" id=\"sk-estimator-id-93\" type=\"checkbox\" ><label for=\"sk-estimator-id-93\" class=\"sk-toggleable__label sk-toggleable__label-arrow\">PCA</label><div class=\"sk-toggleable__content\"><pre>PCA(n_components=7, random_state=0)</pre></div></div></div><div class=\"sk-item\"><div class=\"sk-estimator sk-toggleable\"><input class=\"sk-toggleable__control sk-hidden--visually\" id=\"sk-estimator-id-94\" type=\"checkbox\" ><label for=\"sk-estimator-id-94\" class=\"sk-toggleable__label sk-toggleable__label-arrow\">RandomForestRegressor</label><div class=\"sk-toggleable__content\"><pre>RandomForestRegressor(max_features=0.5, min_samples_leaf=2, n_estimators=300,\n",
              "                      random_state=0)</pre></div></div></div></div></div></div></div>"
            ],
            "text/plain": [
              "Pipeline(steps=[('OrdinalCategoricalEncoder',\n",
              "                 OrdinalEncoder(encoding_method='arbitrary',\n",
              "                                variables=['BsmtExposure', 'BsmtFinType1',\n",
              "                                           'GarageFinish', 'KitchenQual'])),\n",
              "                ('SmartCorrelatedSelection',\n",
              "                 SmartCorrelatedSelection(method='spearman',\n",
              "                                          selection_method='variance',\n",
              "                                          threshold=0.6)),\n",
              "                ('feat_scaling', StandardScaler()),\n",
              "                ('PCA', PCA(n_components=7, random_state=0)),\n",
              "                ('model',\n",
              "                 RandomForestRegressor(max_features=0.5, min_samples_leaf=2,\n",
              "                                       n_estimators=300, random_state=0))])"
            ]
          },
          "execution_count": 146,
          "metadata": {},
          "output_type": "execute_result"
        }
      ],
      "source": [
        "best_regressor_pipeline_pca = grid_search_pipelines[best_model].best_estimator_\n",
        "best_regressor_pipeline_pca"
      ]
    },
    {
      "cell_type": "markdown",
      "metadata": {
        "id": "rKGmSgINCQwj"
      },
      "source": [
        "## Evaluate Regressor on Train and Tests Sets"
      ]
    },
    {
      "cell_type": "code",
      "execution_count": null,
      "metadata": {
        "id": "78tt_ZkiJRdE"
      },
      "outputs": [
        {
          "name": "stdout",
          "output_type": "stream",
          "text": [
            "Model Evaluation \n",
            "\n",
            "* Train Set\n"
          ]
        },
        {
          "ename": "ValueError",
          "evalue": "The number of columns in this dataset is different from the one used to fit this transformer (when using the fit() method).",
          "output_type": "error",
          "traceback": [
            "\u001b[0;31m---------------------------------------------------------------------------\u001b[0m",
            "\u001b[0;31mValueError\u001b[0m                                Traceback (most recent call last)",
            "Cell \u001b[0;32mIn[147], line 1\u001b[0m\n\u001b[0;32m----> 1\u001b[0m \u001b[43mregression_performance\u001b[49m\u001b[43m(\u001b[49m\u001b[43mX_train\u001b[49m\u001b[43m,\u001b[49m\u001b[43m \u001b[49m\u001b[43my_train\u001b[49m\u001b[43m,\u001b[49m\u001b[43m \u001b[49m\u001b[43mX_test\u001b[49m\u001b[43m,\u001b[49m\u001b[43m \u001b[49m\u001b[43my_test\u001b[49m\u001b[43m,\u001b[49m\u001b[43mbest_regressor_pipeline_pca\u001b[49m\u001b[43m)\u001b[49m\n\u001b[1;32m      2\u001b[0m regression_evaluation_plots(X_train, y_train, X_test, y_test,\n\u001b[1;32m      3\u001b[0m                             best_regressor_pipeline_pca)\n",
            "Cell \u001b[0;32mIn[110], line 8\u001b[0m, in \u001b[0;36mregression_performance\u001b[0;34m(X_train, y_train, X_test, y_test, pipeline)\u001b[0m\n\u001b[1;32m      6\u001b[0m \u001b[38;5;28mprint\u001b[39m(\u001b[38;5;124m\"\u001b[39m\u001b[38;5;124mModel Evaluation \u001b[39m\u001b[38;5;130;01m\\n\u001b[39;00m\u001b[38;5;124m\"\u001b[39m)\n\u001b[1;32m      7\u001b[0m \u001b[38;5;28mprint\u001b[39m(\u001b[38;5;124m\"\u001b[39m\u001b[38;5;124m* Train Set\u001b[39m\u001b[38;5;124m\"\u001b[39m)\n\u001b[0;32m----> 8\u001b[0m \u001b[43mregression_evaluation\u001b[49m\u001b[43m(\u001b[49m\u001b[43mX_train\u001b[49m\u001b[43m,\u001b[49m\u001b[43m \u001b[49m\u001b[43my_train\u001b[49m\u001b[43m,\u001b[49m\u001b[43m \u001b[49m\u001b[43mpipeline\u001b[49m\u001b[43m)\u001b[49m\n\u001b[1;32m      9\u001b[0m \u001b[38;5;28mprint\u001b[39m(\u001b[38;5;124m\"\u001b[39m\u001b[38;5;124m* Test Set\u001b[39m\u001b[38;5;124m\"\u001b[39m)\n\u001b[1;32m     10\u001b[0m regression_evaluation(X_test, y_test, pipeline)\n",
            "Cell \u001b[0;32mIn[110], line 14\u001b[0m, in \u001b[0;36mregression_evaluation\u001b[0;34m(X, y, pipeline)\u001b[0m\n\u001b[1;32m     13\u001b[0m \u001b[38;5;28;01mdef\u001b[39;00m \u001b[38;5;21mregression_evaluation\u001b[39m(X, y, pipeline):\n\u001b[0;32m---> 14\u001b[0m     prediction \u001b[38;5;241m=\u001b[39m \u001b[43mpipeline\u001b[49m\u001b[38;5;241;43m.\u001b[39;49m\u001b[43mpredict\u001b[49m\u001b[43m(\u001b[49m\u001b[43mX\u001b[49m\u001b[43m)\u001b[49m\n\u001b[1;32m     15\u001b[0m     \u001b[38;5;28mprint\u001b[39m(\u001b[38;5;124m'\u001b[39m\u001b[38;5;124mR2 Score:\u001b[39m\u001b[38;5;124m'\u001b[39m, r2_score(y, prediction)\u001b[38;5;241m.\u001b[39mround(\u001b[38;5;241m3\u001b[39m))\n\u001b[1;32m     16\u001b[0m     \u001b[38;5;28mprint\u001b[39m(\u001b[38;5;124m'\u001b[39m\u001b[38;5;124mMean Absolute Error:\u001b[39m\u001b[38;5;124m'\u001b[39m, mean_absolute_error(y, prediction)\u001b[38;5;241m.\u001b[39mround(\u001b[38;5;241m3\u001b[39m))\n",
            "File \u001b[0;32m~/.local/lib/python3.12/site-packages/sklearn/pipeline.py:514\u001b[0m, in \u001b[0;36mPipeline.predict\u001b[0;34m(self, X, **predict_params)\u001b[0m\n\u001b[1;32m    512\u001b[0m Xt \u001b[38;5;241m=\u001b[39m X\n\u001b[1;32m    513\u001b[0m \u001b[38;5;28;01mfor\u001b[39;00m _, name, transform \u001b[38;5;129;01min\u001b[39;00m \u001b[38;5;28mself\u001b[39m\u001b[38;5;241m.\u001b[39m_iter(with_final\u001b[38;5;241m=\u001b[39m\u001b[38;5;28;01mFalse\u001b[39;00m):\n\u001b[0;32m--> 514\u001b[0m     Xt \u001b[38;5;241m=\u001b[39m \u001b[43mtransform\u001b[49m\u001b[38;5;241;43m.\u001b[39;49m\u001b[43mtransform\u001b[49m\u001b[43m(\u001b[49m\u001b[43mXt\u001b[49m\u001b[43m)\u001b[49m\n\u001b[1;32m    515\u001b[0m \u001b[38;5;28;01mreturn\u001b[39;00m \u001b[38;5;28mself\u001b[39m\u001b[38;5;241m.\u001b[39msteps[\u001b[38;5;241m-\u001b[39m\u001b[38;5;241m1\u001b[39m][\u001b[38;5;241m1\u001b[39m]\u001b[38;5;241m.\u001b[39mpredict(Xt, \u001b[38;5;241m*\u001b[39m\u001b[38;5;241m*\u001b[39mpredict_params)\n",
            "File \u001b[0;32m~/.local/lib/python3.12/site-packages/sklearn/utils/_set_output.py:157\u001b[0m, in \u001b[0;36m_wrap_method_output.<locals>.wrapped\u001b[0;34m(self, X, *args, **kwargs)\u001b[0m\n\u001b[1;32m    155\u001b[0m \u001b[38;5;129m@wraps\u001b[39m(f)\n\u001b[1;32m    156\u001b[0m \u001b[38;5;28;01mdef\u001b[39;00m \u001b[38;5;21mwrapped\u001b[39m(\u001b[38;5;28mself\u001b[39m, X, \u001b[38;5;241m*\u001b[39margs, \u001b[38;5;241m*\u001b[39m\u001b[38;5;241m*\u001b[39mkwargs):\n\u001b[0;32m--> 157\u001b[0m     data_to_wrap \u001b[38;5;241m=\u001b[39m \u001b[43mf\u001b[49m\u001b[43m(\u001b[49m\u001b[38;5;28;43mself\u001b[39;49m\u001b[43m,\u001b[49m\u001b[43m \u001b[49m\u001b[43mX\u001b[49m\u001b[43m,\u001b[49m\u001b[43m \u001b[49m\u001b[38;5;241;43m*\u001b[39;49m\u001b[43margs\u001b[49m\u001b[43m,\u001b[49m\u001b[43m \u001b[49m\u001b[38;5;241;43m*\u001b[39;49m\u001b[38;5;241;43m*\u001b[39;49m\u001b[43mkwargs\u001b[49m\u001b[43m)\u001b[49m\n\u001b[1;32m    158\u001b[0m     \u001b[38;5;28;01mif\u001b[39;00m \u001b[38;5;28misinstance\u001b[39m(data_to_wrap, \u001b[38;5;28mtuple\u001b[39m):\n\u001b[1;32m    159\u001b[0m         \u001b[38;5;66;03m# only wrap the first output for cross decomposition\u001b[39;00m\n\u001b[1;32m    160\u001b[0m         return_tuple \u001b[38;5;241m=\u001b[39m (\n\u001b[1;32m    161\u001b[0m             _wrap_data_with_container(method, data_to_wrap[\u001b[38;5;241m0\u001b[39m], X, \u001b[38;5;28mself\u001b[39m),\n\u001b[1;32m    162\u001b[0m             \u001b[38;5;241m*\u001b[39mdata_to_wrap[\u001b[38;5;241m1\u001b[39m:],\n\u001b[1;32m    163\u001b[0m         )\n",
            "File \u001b[0;32m~/.local/lib/python3.12/site-packages/feature_engine/encoding/base_encoder.py:206\u001b[0m, in \u001b[0;36mCategoricalMethodsMixin.transform\u001b[0;34m(self, X)\u001b[0m\n\u001b[1;32m    192\u001b[0m \u001b[38;5;28;01mdef\u001b[39;00m \u001b[38;5;21mtransform\u001b[39m(\u001b[38;5;28mself\u001b[39m, X: pd\u001b[38;5;241m.\u001b[39mDataFrame) \u001b[38;5;241m-\u001b[39m\u001b[38;5;241m>\u001b[39m pd\u001b[38;5;241m.\u001b[39mDataFrame:\n\u001b[1;32m    193\u001b[0m \u001b[38;5;250m    \u001b[39m\u001b[38;5;124;03m\"\"\"Replace categories with the learned parameters.\u001b[39;00m\n\u001b[1;32m    194\u001b[0m \n\u001b[1;32m    195\u001b[0m \u001b[38;5;124;03m    Parameters\u001b[39;00m\n\u001b[0;32m   (...)\u001b[0m\n\u001b[1;32m    203\u001b[0m \u001b[38;5;124;03m        The dataframe containing the categories replaced by numbers.\u001b[39;00m\n\u001b[1;32m    204\u001b[0m \u001b[38;5;124;03m    \"\"\"\u001b[39;00m\n\u001b[0;32m--> 206\u001b[0m     X \u001b[38;5;241m=\u001b[39m \u001b[38;5;28;43mself\u001b[39;49m\u001b[38;5;241;43m.\u001b[39;49m\u001b[43m_check_transform_input_and_state\u001b[49m\u001b[43m(\u001b[49m\u001b[43mX\u001b[49m\u001b[43m)\u001b[49m\n\u001b[1;32m    208\u001b[0m     \u001b[38;5;66;03m# check if dataset contains na\u001b[39;00m\n\u001b[1;32m    209\u001b[0m     \u001b[38;5;28;01mif\u001b[39;00m \u001b[38;5;28mself\u001b[39m\u001b[38;5;241m.\u001b[39mmissing_values \u001b[38;5;241m==\u001b[39m \u001b[38;5;124m\"\u001b[39m\u001b[38;5;124mraise\u001b[39m\u001b[38;5;124m\"\u001b[39m:\n",
            "File \u001b[0;32m~/.local/lib/python3.12/site-packages/feature_engine/encoding/base_encoder.py:185\u001b[0m, in \u001b[0;36mCategoricalMethodsMixin._check_transform_input_and_state\u001b[0;34m(self, X)\u001b[0m\n\u001b[1;32m    182\u001b[0m X \u001b[38;5;241m=\u001b[39m check_X(X)\n\u001b[1;32m    184\u001b[0m \u001b[38;5;66;03m# Check input data contains same number of columns as df used to fit\u001b[39;00m\n\u001b[0;32m--> 185\u001b[0m \u001b[43m_check_X_matches_training_df\u001b[49m\u001b[43m(\u001b[49m\u001b[43mX\u001b[49m\u001b[43m,\u001b[49m\u001b[43m \u001b[49m\u001b[38;5;28;43mself\u001b[39;49m\u001b[38;5;241;43m.\u001b[39;49m\u001b[43mn_features_in_\u001b[49m\u001b[43m)\u001b[49m\n\u001b[1;32m    187\u001b[0m \u001b[38;5;66;03m# reorder df to match train set\u001b[39;00m\n\u001b[1;32m    188\u001b[0m X \u001b[38;5;241m=\u001b[39m X[\u001b[38;5;28mself\u001b[39m\u001b[38;5;241m.\u001b[39mfeature_names_in_]\n",
            "File \u001b[0;32m~/.local/lib/python3.12/site-packages/feature_engine/dataframe_checks.py:237\u001b[0m, in \u001b[0;36m_check_X_matches_training_df\u001b[0;34m(X, reference)\u001b[0m\n\u001b[1;32m    215\u001b[0m \u001b[38;5;250m\u001b[39m\u001b[38;5;124;03m\"\"\"\u001b[39;00m\n\u001b[1;32m    216\u001b[0m \u001b[38;5;124;03mChecks that DataFrame to transform has the same number of columns that the\u001b[39;00m\n\u001b[1;32m    217\u001b[0m \u001b[38;5;124;03mDataFrame used with the fit() method.\u001b[39;00m\n\u001b[0;32m   (...)\u001b[0m\n\u001b[1;32m    233\u001b[0m \u001b[38;5;124;03mNone\u001b[39;00m\n\u001b[1;32m    234\u001b[0m \u001b[38;5;124;03m\"\"\"\u001b[39;00m\n\u001b[1;32m    236\u001b[0m \u001b[38;5;28;01mif\u001b[39;00m X\u001b[38;5;241m.\u001b[39mshape[\u001b[38;5;241m1\u001b[39m] \u001b[38;5;241m!=\u001b[39m reference:\n\u001b[0;32m--> 237\u001b[0m     \u001b[38;5;28;01mraise\u001b[39;00m \u001b[38;5;167;01mValueError\u001b[39;00m(\n\u001b[1;32m    238\u001b[0m         \u001b[38;5;124m\"\u001b[39m\u001b[38;5;124mThe number of columns in this dataset is different from the one used to \u001b[39m\u001b[38;5;124m\"\u001b[39m\n\u001b[1;32m    239\u001b[0m         \u001b[38;5;124m\"\u001b[39m\u001b[38;5;124mfit this transformer (when using the fit() method).\u001b[39m\u001b[38;5;124m\"\u001b[39m\n\u001b[1;32m    240\u001b[0m     )\n\u001b[1;32m    242\u001b[0m \u001b[38;5;28;01mreturn\u001b[39;00m \u001b[38;5;28;01mNone\u001b[39;00m\n",
            "\u001b[0;31mValueError\u001b[0m: The number of columns in this dataset is different from the one used to fit this transformer (when using the fit() method)."
          ]
        }
      ],
      "source": [
        "regression_performance(X_train, y_train, X_test, y_test,best_regressor_pipeline_pca)\n",
        "regression_evaluation_plots(X_train, y_train, X_test, y_test,\n",
        "                            best_regressor_pipeline_pca)"
      ]
    },
    {
      "cell_type": "markdown",
      "metadata": {
        "id": "mQ3u0TodDdOZ"
      },
      "source": [
        "# Which pipeline to choose?"
      ]
    },
    {
      "cell_type": "markdown",
      "metadata": {
        "id": "FE5va8Cr-CCy"
      },
      "source": [
        "We fitted 2 pipelines:\n",
        "* Regression\n",
        "* Regression with PCA\n",
        "\n",
        "Didn't do classifier as we’d need to bucket SalePrice into categories (e.g., “Low”, “Medium”, “High”) and then train a classifier.\n",
        "This means we’d lose the ability to predict exact prices, and the performance metrics would change (e.g., accuracy instead of RMSE).\n",
        "Therefore it is not worth it to do one.\n",
        "\n",
        "Additionally, we chose to continue with the Regression (ExtraTreesRegressor) as it lets you directly see which original features (ex: OverallQual, GrLivArea) drive the predictions, which is useful for explaining results to stakeholders or friends. PCA components are a mixture of variables, so while they can improve predictive performance, they don't directly tell us what aspects of a property are increasing or decreasing the price.\n",
        "ExtraTreesRegressor can also capture complex, nonlinear interactions in the housing data, which PCA might not capture as well."
      ]
    },
    {
      "cell_type": "markdown",
      "metadata": {
        "id": "GBtppR73G1Yx"
      },
      "source": [
        "# Push files to the repo"
      ]
    },
    {
      "cell_type": "markdown",
      "metadata": {
        "id": "ShuJ5tYUC06o"
      },
      "source": [
        "We will generate the following files\n",
        "\n",
        "* Train set\n",
        "* Test set\n",
        "* Modeling pipeline\n",
        "* label map\n",
        "* features importance plot"
      ]
    },
    {
      "cell_type": "code",
      "execution_count": 255,
      "metadata": {
        "id": "8vBpPvnaG5Mb"
      },
      "outputs": [
        {
          "name": "stdout",
          "output_type": "stream",
          "text": [
            "[Errno 17] File exists: 'outputs/ml_pipeline/predict_SalePrice/v1'\n"
          ]
        }
      ],
      "source": [
        "import joblib\n",
        "import os\n",
        "\n",
        "version = 'v1'\n",
        "file_path = f'outputs/ml_pipeline/predict_SalePrice/{version}'\n",
        "\n",
        "try:\n",
        "  os.makedirs(name=file_path)\n",
        "except Exception as e:\n",
        "  print(e)"
      ]
    },
    {
      "cell_type": "markdown",
      "metadata": {
        "id": "4TvoMsi3DNw1"
      },
      "source": [
        "## Train Set: features and target"
      ]
    },
    {
      "cell_type": "code",
      "execution_count": 256,
      "metadata": {
        "id": "yJHmwyqgDOr1"
      },
      "outputs": [
        {
          "data": {
            "text/html": [
              "<div>\n",
              "<style scoped>\n",
              "    .dataframe tbody tr th:only-of-type {\n",
              "        vertical-align: middle;\n",
              "    }\n",
              "\n",
              "    .dataframe tbody tr th {\n",
              "        vertical-align: top;\n",
              "    }\n",
              "\n",
              "    .dataframe thead th {\n",
              "        text-align: right;\n",
              "    }\n",
              "</style>\n",
              "<table border=\"1\" class=\"dataframe\">\n",
              "  <thead>\n",
              "    <tr style=\"text-align: right;\">\n",
              "      <th></th>\n",
              "      <th>1stFlrSF</th>\n",
              "      <th>2ndFlrSF</th>\n",
              "      <th>BedroomAbvGr</th>\n",
              "      <th>BsmtExposure</th>\n",
              "      <th>BsmtFinSF1</th>\n",
              "      <th>BsmtFinType1</th>\n",
              "      <th>BsmtUnfSF</th>\n",
              "      <th>GarageArea</th>\n",
              "      <th>GarageFinish</th>\n",
              "      <th>GarageYrBlt</th>\n",
              "      <th>...</th>\n",
              "      <th>KitchenQual</th>\n",
              "      <th>LotArea</th>\n",
              "      <th>LotFrontage</th>\n",
              "      <th>MasVnrArea</th>\n",
              "      <th>OpenPorchSF</th>\n",
              "      <th>OverallCond</th>\n",
              "      <th>OverallQual</th>\n",
              "      <th>TotalBsmtSF</th>\n",
              "      <th>YearBuilt</th>\n",
              "      <th>YearRemodAdd</th>\n",
              "    </tr>\n",
              "  </thead>\n",
              "  <tbody>\n",
              "    <tr>\n",
              "      <th>618</th>\n",
              "      <td>1828</td>\n",
              "      <td>0.0</td>\n",
              "      <td>3.0</td>\n",
              "      <td>Av</td>\n",
              "      <td>48</td>\n",
              "      <td>Unf</td>\n",
              "      <td>1774</td>\n",
              "      <td>774</td>\n",
              "      <td>Unf</td>\n",
              "      <td>2007.0</td>\n",
              "      <td>...</td>\n",
              "      <td>Gd</td>\n",
              "      <td>11694</td>\n",
              "      <td>90.0</td>\n",
              "      <td>452.0</td>\n",
              "      <td>108</td>\n",
              "      <td>5</td>\n",
              "      <td>9</td>\n",
              "      <td>1822</td>\n",
              "      <td>2007</td>\n",
              "      <td>2007</td>\n",
              "    </tr>\n",
              "    <tr>\n",
              "      <th>870</th>\n",
              "      <td>894</td>\n",
              "      <td>0.0</td>\n",
              "      <td>2.0</td>\n",
              "      <td>No</td>\n",
              "      <td>0</td>\n",
              "      <td>Unf</td>\n",
              "      <td>894</td>\n",
              "      <td>308</td>\n",
              "      <td>Unf</td>\n",
              "      <td>1962.0</td>\n",
              "      <td>...</td>\n",
              "      <td>TA</td>\n",
              "      <td>6600</td>\n",
              "      <td>60.0</td>\n",
              "      <td>0.0</td>\n",
              "      <td>0</td>\n",
              "      <td>5</td>\n",
              "      <td>5</td>\n",
              "      <td>894</td>\n",
              "      <td>1962</td>\n",
              "      <td>1962</td>\n",
              "    </tr>\n",
              "    <tr>\n",
              "      <th>92</th>\n",
              "      <td>964</td>\n",
              "      <td>0.0</td>\n",
              "      <td>2.0</td>\n",
              "      <td>No</td>\n",
              "      <td>713</td>\n",
              "      <td>ALQ</td>\n",
              "      <td>163</td>\n",
              "      <td>432</td>\n",
              "      <td>Unf</td>\n",
              "      <td>1921.0</td>\n",
              "      <td>...</td>\n",
              "      <td>TA</td>\n",
              "      <td>13360</td>\n",
              "      <td>80.0</td>\n",
              "      <td>0.0</td>\n",
              "      <td>0</td>\n",
              "      <td>7</td>\n",
              "      <td>5</td>\n",
              "      <td>876</td>\n",
              "      <td>1921</td>\n",
              "      <td>2006</td>\n",
              "    </tr>\n",
              "    <tr>\n",
              "      <th>817</th>\n",
              "      <td>1689</td>\n",
              "      <td>0.0</td>\n",
              "      <td>3.0</td>\n",
              "      <td>No</td>\n",
              "      <td>1218</td>\n",
              "      <td>GLQ</td>\n",
              "      <td>350</td>\n",
              "      <td>857</td>\n",
              "      <td>RFn</td>\n",
              "      <td>2002.0</td>\n",
              "      <td>...</td>\n",
              "      <td>Gd</td>\n",
              "      <td>13265</td>\n",
              "      <td>69.0</td>\n",
              "      <td>148.0</td>\n",
              "      <td>59</td>\n",
              "      <td>5</td>\n",
              "      <td>8</td>\n",
              "      <td>1568</td>\n",
              "      <td>2002</td>\n",
              "      <td>2002</td>\n",
              "    </tr>\n",
              "    <tr>\n",
              "      <th>302</th>\n",
              "      <td>1541</td>\n",
              "      <td>0.0</td>\n",
              "      <td>3.0</td>\n",
              "      <td>No</td>\n",
              "      <td>0</td>\n",
              "      <td>Unf</td>\n",
              "      <td>1541</td>\n",
              "      <td>843</td>\n",
              "      <td>RFn</td>\n",
              "      <td>2001.0</td>\n",
              "      <td>...</td>\n",
              "      <td>Gd</td>\n",
              "      <td>13704</td>\n",
              "      <td>118.0</td>\n",
              "      <td>150.0</td>\n",
              "      <td>81</td>\n",
              "      <td>5</td>\n",
              "      <td>7</td>\n",
              "      <td>1541</td>\n",
              "      <td>2001</td>\n",
              "      <td>2002</td>\n",
              "    </tr>\n",
              "  </tbody>\n",
              "</table>\n",
              "<p>5 rows × 21 columns</p>\n",
              "</div>"
            ],
            "text/plain": [
              "     1stFlrSF  2ndFlrSF  BedroomAbvGr BsmtExposure  BsmtFinSF1 BsmtFinType1  \\\n",
              "618      1828       0.0           3.0           Av          48          Unf   \n",
              "870       894       0.0           2.0           No           0          Unf   \n",
              "92        964       0.0           2.0           No         713          ALQ   \n",
              "817      1689       0.0           3.0           No        1218          GLQ   \n",
              "302      1541       0.0           3.0           No           0          Unf   \n",
              "\n",
              "     BsmtUnfSF  GarageArea GarageFinish  GarageYrBlt  ...  KitchenQual  \\\n",
              "618       1774         774          Unf       2007.0  ...           Gd   \n",
              "870        894         308          Unf       1962.0  ...           TA   \n",
              "92         163         432          Unf       1921.0  ...           TA   \n",
              "817        350         857          RFn       2002.0  ...           Gd   \n",
              "302       1541         843          RFn       2001.0  ...           Gd   \n",
              "\n",
              "    LotArea  LotFrontage  MasVnrArea  OpenPorchSF  OverallCond  OverallQual  \\\n",
              "618   11694         90.0       452.0          108            5            9   \n",
              "870    6600         60.0         0.0            0            5            5   \n",
              "92    13360         80.0         0.0            0            7            5   \n",
              "817   13265         69.0       148.0           59            5            8   \n",
              "302   13704        118.0       150.0           81            5            7   \n",
              "\n",
              "     TotalBsmtSF  YearBuilt  YearRemodAdd  \n",
              "618         1822       2007          2007  \n",
              "870          894       1962          1962  \n",
              "92           876       1921          2006  \n",
              "817         1568       2002          2002  \n",
              "302         1541       2001          2002  \n",
              "\n",
              "[5 rows x 21 columns]"
            ]
          },
          "execution_count": 256,
          "metadata": {},
          "output_type": "execute_result"
        }
      ],
      "source": [
        "X_train.head()"
      ]
    },
    {
      "cell_type": "code",
      "execution_count": 259,
      "metadata": {
        "id": "yh6w6R7tDOvM"
      },
      "outputs": [],
      "source": [
        "X_train.to_csv(f\"{file_path}/X_train.csv\", index=False)"
      ]
    },
    {
      "cell_type": "code",
      "execution_count": 260,
      "metadata": {
        "id": "pB6pjmAcDOym"
      },
      "outputs": [
        {
          "data": {
            "text/plain": [
              "618     314813\n",
              "870     109500\n",
              "92      163500\n",
              "817     271000\n",
              "302     205000\n",
              "         ...  \n",
              "763     337000\n",
              "835     128000\n",
              "1216    112000\n",
              "559     234000\n",
              "684     221000\n",
              "Name: SalePrice, Length: 1168, dtype: int64"
            ]
          },
          "execution_count": 260,
          "metadata": {},
          "output_type": "execute_result"
        }
      ],
      "source": [
        "y_train"
      ]
    },
    {
      "cell_type": "code",
      "execution_count": 261,
      "metadata": {
        "id": "ZZ93HN6cDPBN"
      },
      "outputs": [],
      "source": [
        "y_train.to_csv(f\"{file_path}/y_train.csv\", index=False)"
      ]
    },
    {
      "cell_type": "markdown",
      "metadata": {
        "id": "aVbS3OnRDYtJ"
      },
      "source": [
        "## Test Set: features and target"
      ]
    },
    {
      "cell_type": "code",
      "execution_count": 262,
      "metadata": {
        "id": "XbgF38n1DaPp"
      },
      "outputs": [
        {
          "data": {
            "text/html": [
              "<div>\n",
              "<style scoped>\n",
              "    .dataframe tbody tr th:only-of-type {\n",
              "        vertical-align: middle;\n",
              "    }\n",
              "\n",
              "    .dataframe tbody tr th {\n",
              "        vertical-align: top;\n",
              "    }\n",
              "\n",
              "    .dataframe thead th {\n",
              "        text-align: right;\n",
              "    }\n",
              "</style>\n",
              "<table border=\"1\" class=\"dataframe\">\n",
              "  <thead>\n",
              "    <tr style=\"text-align: right;\">\n",
              "      <th></th>\n",
              "      <th>1stFlrSF</th>\n",
              "      <th>2ndFlrSF</th>\n",
              "      <th>BedroomAbvGr</th>\n",
              "      <th>BsmtExposure</th>\n",
              "      <th>BsmtFinSF1</th>\n",
              "      <th>BsmtFinType1</th>\n",
              "      <th>BsmtUnfSF</th>\n",
              "      <th>GarageArea</th>\n",
              "      <th>GarageFinish</th>\n",
              "      <th>GarageYrBlt</th>\n",
              "      <th>...</th>\n",
              "      <th>KitchenQual</th>\n",
              "      <th>LotArea</th>\n",
              "      <th>LotFrontage</th>\n",
              "      <th>MasVnrArea</th>\n",
              "      <th>OpenPorchSF</th>\n",
              "      <th>OverallCond</th>\n",
              "      <th>OverallQual</th>\n",
              "      <th>TotalBsmtSF</th>\n",
              "      <th>YearBuilt</th>\n",
              "      <th>YearRemodAdd</th>\n",
              "    </tr>\n",
              "  </thead>\n",
              "  <tbody>\n",
              "    <tr>\n",
              "      <th>529</th>\n",
              "      <td>2515</td>\n",
              "      <td>0.0</td>\n",
              "      <td>4.0</td>\n",
              "      <td>No</td>\n",
              "      <td>1219</td>\n",
              "      <td>Rec</td>\n",
              "      <td>816</td>\n",
              "      <td>484</td>\n",
              "      <td>Unf</td>\n",
              "      <td>1975.0</td>\n",
              "      <td>...</td>\n",
              "      <td>TA</td>\n",
              "      <td>32668</td>\n",
              "      <td>69.0</td>\n",
              "      <td>0.0</td>\n",
              "      <td>0</td>\n",
              "      <td>3</td>\n",
              "      <td>6</td>\n",
              "      <td>2035</td>\n",
              "      <td>1957</td>\n",
              "      <td>1975</td>\n",
              "    </tr>\n",
              "    <tr>\n",
              "      <th>491</th>\n",
              "      <td>958</td>\n",
              "      <td>620.0</td>\n",
              "      <td>3.0</td>\n",
              "      <td>No</td>\n",
              "      <td>403</td>\n",
              "      <td>BLQ</td>\n",
              "      <td>238</td>\n",
              "      <td>240</td>\n",
              "      <td>Unf</td>\n",
              "      <td>1941.0</td>\n",
              "      <td>...</td>\n",
              "      <td>Fa</td>\n",
              "      <td>9490</td>\n",
              "      <td>79.0</td>\n",
              "      <td>0.0</td>\n",
              "      <td>0</td>\n",
              "      <td>7</td>\n",
              "      <td>6</td>\n",
              "      <td>806</td>\n",
              "      <td>1941</td>\n",
              "      <td>1950</td>\n",
              "    </tr>\n",
              "    <tr>\n",
              "      <th>459</th>\n",
              "      <td>979</td>\n",
              "      <td>224.0</td>\n",
              "      <td>3.0</td>\n",
              "      <td>No</td>\n",
              "      <td>185</td>\n",
              "      <td>LwQ</td>\n",
              "      <td>524</td>\n",
              "      <td>352</td>\n",
              "      <td>Unf</td>\n",
              "      <td>1950.0</td>\n",
              "      <td>...</td>\n",
              "      <td>Gd</td>\n",
              "      <td>7015</td>\n",
              "      <td>69.0</td>\n",
              "      <td>161.0</td>\n",
              "      <td>0</td>\n",
              "      <td>4</td>\n",
              "      <td>5</td>\n",
              "      <td>709</td>\n",
              "      <td>1950</td>\n",
              "      <td>1950</td>\n",
              "    </tr>\n",
              "    <tr>\n",
              "      <th>279</th>\n",
              "      <td>1156</td>\n",
              "      <td>866.0</td>\n",
              "      <td>4.0</td>\n",
              "      <td>No</td>\n",
              "      <td>392</td>\n",
              "      <td>BLQ</td>\n",
              "      <td>768</td>\n",
              "      <td>505</td>\n",
              "      <td>Fin</td>\n",
              "      <td>1977.0</td>\n",
              "      <td>...</td>\n",
              "      <td>TA</td>\n",
              "      <td>10005</td>\n",
              "      <td>83.0</td>\n",
              "      <td>299.0</td>\n",
              "      <td>117</td>\n",
              "      <td>5</td>\n",
              "      <td>7</td>\n",
              "      <td>1160</td>\n",
              "      <td>1977</td>\n",
              "      <td>1977</td>\n",
              "    </tr>\n",
              "    <tr>\n",
              "      <th>655</th>\n",
              "      <td>525</td>\n",
              "      <td>0.0</td>\n",
              "      <td>3.0</td>\n",
              "      <td>No</td>\n",
              "      <td>0</td>\n",
              "      <td>Unf</td>\n",
              "      <td>525</td>\n",
              "      <td>264</td>\n",
              "      <td>Unf</td>\n",
              "      <td>1971.0</td>\n",
              "      <td>...</td>\n",
              "      <td>TA</td>\n",
              "      <td>1680</td>\n",
              "      <td>21.0</td>\n",
              "      <td>381.0</td>\n",
              "      <td>0</td>\n",
              "      <td>5</td>\n",
              "      <td>6</td>\n",
              "      <td>525</td>\n",
              "      <td>1971</td>\n",
              "      <td>1971</td>\n",
              "    </tr>\n",
              "  </tbody>\n",
              "</table>\n",
              "<p>5 rows × 21 columns</p>\n",
              "</div>"
            ],
            "text/plain": [
              "     1stFlrSF  2ndFlrSF  BedroomAbvGr BsmtExposure  BsmtFinSF1 BsmtFinType1  \\\n",
              "529      2515       0.0           4.0           No        1219          Rec   \n",
              "491       958     620.0           3.0           No         403          BLQ   \n",
              "459       979     224.0           3.0           No         185          LwQ   \n",
              "279      1156     866.0           4.0           No         392          BLQ   \n",
              "655       525       0.0           3.0           No           0          Unf   \n",
              "\n",
              "     BsmtUnfSF  GarageArea GarageFinish  GarageYrBlt  ...  KitchenQual  \\\n",
              "529        816         484          Unf       1975.0  ...           TA   \n",
              "491        238         240          Unf       1941.0  ...           Fa   \n",
              "459        524         352          Unf       1950.0  ...           Gd   \n",
              "279        768         505          Fin       1977.0  ...           TA   \n",
              "655        525         264          Unf       1971.0  ...           TA   \n",
              "\n",
              "    LotArea  LotFrontage  MasVnrArea  OpenPorchSF  OverallCond  OverallQual  \\\n",
              "529   32668         69.0         0.0            0            3            6   \n",
              "491    9490         79.0         0.0            0            7            6   \n",
              "459    7015         69.0       161.0            0            4            5   \n",
              "279   10005         83.0       299.0          117            5            7   \n",
              "655    1680         21.0       381.0            0            5            6   \n",
              "\n",
              "     TotalBsmtSF  YearBuilt  YearRemodAdd  \n",
              "529         2035       1957          1975  \n",
              "491          806       1941          1950  \n",
              "459          709       1950          1950  \n",
              "279         1160       1977          1977  \n",
              "655          525       1971          1971  \n",
              "\n",
              "[5 rows x 21 columns]"
            ]
          },
          "execution_count": 262,
          "metadata": {},
          "output_type": "execute_result"
        }
      ],
      "source": [
        "X_test.head()"
      ]
    },
    {
      "cell_type": "code",
      "execution_count": 263,
      "metadata": {
        "id": "x9lM0xDvDaVZ"
      },
      "outputs": [],
      "source": [
        "X_test.to_csv(f\"{file_path}/X_test.csv\", index=False)"
      ]
    },
    {
      "cell_type": "code",
      "execution_count": 264,
      "metadata": {
        "id": "5Jz66iMaDacI"
      },
      "outputs": [
        {
          "data": {
            "text/plain": [
              "529     200624\n",
              "491     133000\n",
              "459     110000\n",
              "279     192000\n",
              "655      88000\n",
              "         ...  \n",
              "326     324000\n",
              "440     555000\n",
              "1387    136000\n",
              "1323     82500\n",
              "61      101000\n",
              "Name: SalePrice, Length: 292, dtype: int64"
            ]
          },
          "execution_count": 264,
          "metadata": {},
          "output_type": "execute_result"
        }
      ],
      "source": [
        "y_test"
      ]
    },
    {
      "cell_type": "code",
      "execution_count": 265,
      "metadata": {
        "id": "weYaJ4UxDake"
      },
      "outputs": [],
      "source": [
        "y_test.to_csv(f\"{file_path}/y_test.csv\", index=False)"
      ]
    },
    {
      "cell_type": "markdown",
      "metadata": {
        "id": "U-XpkYAPFncu"
      },
      "source": [
        "## Modelling pipeline"
      ]
    },
    {
      "cell_type": "markdown",
      "metadata": {
        "id": "xLmFFWF6RGo6"
      },
      "source": [
        "ML pipeline for predicting SalePrice"
      ]
    },
    {
      "cell_type": "code",
      "execution_count": 267,
      "metadata": {
        "id": "vQkr4rcrHDnn"
      },
      "outputs": [
        {
          "data": {
            "text/html": [
              "<style>#sk-container-id-19 {color: black;}#sk-container-id-19 pre{padding: 0;}#sk-container-id-19 div.sk-toggleable {background-color: white;}#sk-container-id-19 label.sk-toggleable__label {cursor: pointer;display: block;width: 100%;margin-bottom: 0;padding: 0.3em;box-sizing: border-box;text-align: center;}#sk-container-id-19 label.sk-toggleable__label-arrow:before {content: \"▸\";float: left;margin-right: 0.25em;color: #696969;}#sk-container-id-19 label.sk-toggleable__label-arrow:hover:before {color: black;}#sk-container-id-19 div.sk-estimator:hover label.sk-toggleable__label-arrow:before {color: black;}#sk-container-id-19 div.sk-toggleable__content {max-height: 0;max-width: 0;overflow: hidden;text-align: left;background-color: #f0f8ff;}#sk-container-id-19 div.sk-toggleable__content pre {margin: 0.2em;color: black;border-radius: 0.25em;background-color: #f0f8ff;}#sk-container-id-19 input.sk-toggleable__control:checked~div.sk-toggleable__content {max-height: 200px;max-width: 100%;overflow: auto;}#sk-container-id-19 input.sk-toggleable__control:checked~label.sk-toggleable__label-arrow:before {content: \"▾\";}#sk-container-id-19 div.sk-estimator input.sk-toggleable__control:checked~label.sk-toggleable__label {background-color: #d4ebff;}#sk-container-id-19 div.sk-label input.sk-toggleable__control:checked~label.sk-toggleable__label {background-color: #d4ebff;}#sk-container-id-19 input.sk-hidden--visually {border: 0;clip: rect(1px 1px 1px 1px);clip: rect(1px, 1px, 1px, 1px);height: 1px;margin: -1px;overflow: hidden;padding: 0;position: absolute;width: 1px;}#sk-container-id-19 div.sk-estimator {font-family: monospace;background-color: #f0f8ff;border: 1px dotted black;border-radius: 0.25em;box-sizing: border-box;margin-bottom: 0.5em;}#sk-container-id-19 div.sk-estimator:hover {background-color: #d4ebff;}#sk-container-id-19 div.sk-parallel-item::after {content: \"\";width: 100%;border-bottom: 1px solid gray;flex-grow: 1;}#sk-container-id-19 div.sk-label:hover label.sk-toggleable__label {background-color: #d4ebff;}#sk-container-id-19 div.sk-serial::before {content: \"\";position: absolute;border-left: 1px solid gray;box-sizing: border-box;top: 0;bottom: 0;left: 50%;z-index: 0;}#sk-container-id-19 div.sk-serial {display: flex;flex-direction: column;align-items: center;background-color: white;padding-right: 0.2em;padding-left: 0.2em;position: relative;}#sk-container-id-19 div.sk-item {position: relative;z-index: 1;}#sk-container-id-19 div.sk-parallel {display: flex;align-items: stretch;justify-content: center;background-color: white;position: relative;}#sk-container-id-19 div.sk-item::before, #sk-container-id-19 div.sk-parallel-item::before {content: \"\";position: absolute;border-left: 1px solid gray;box-sizing: border-box;top: 0;bottom: 0;left: 50%;z-index: -1;}#sk-container-id-19 div.sk-parallel-item {display: flex;flex-direction: column;z-index: 1;position: relative;background-color: white;}#sk-container-id-19 div.sk-parallel-item:first-child::after {align-self: flex-end;width: 50%;}#sk-container-id-19 div.sk-parallel-item:last-child::after {align-self: flex-start;width: 50%;}#sk-container-id-19 div.sk-parallel-item:only-child::after {width: 0;}#sk-container-id-19 div.sk-dashed-wrapped {border: 1px dashed gray;margin: 0 0.4em 0.5em 0.4em;box-sizing: border-box;padding-bottom: 0.4em;background-color: white;}#sk-container-id-19 div.sk-label label {font-family: monospace;font-weight: bold;display: inline-block;line-height: 1.2em;}#sk-container-id-19 div.sk-label-container {text-align: center;}#sk-container-id-19 div.sk-container {/* jupyter's `normalize.less` sets `[hidden] { display: none; }` but bootstrap.min.css set `[hidden] { display: none !important; }` so we also need the `!important` here to be able to override the default hidden behavior on the sphinx rendered scikit-learn.org. See: https://github.com/scikit-learn/scikit-learn/issues/21755 */display: inline-block !important;position: relative;}#sk-container-id-19 div.sk-text-repr-fallback {display: none;}</style><div id=\"sk-container-id-19\" class=\"sk-top-container\"><div class=\"sk-text-repr-fallback\"><pre>Pipeline(steps=[(&#x27;OrdinalCategoricalEncoder&#x27;,\n",
              "                 OrdinalEncoder(encoding_method=&#x27;arbitrary&#x27;,\n",
              "                                variables=[&#x27;BsmtExposure&#x27;, &#x27;BsmtFinType1&#x27;,\n",
              "                                           &#x27;GarageFinish&#x27;, &#x27;KitchenQual&#x27;])),\n",
              "                (&#x27;SmartCorrelatedSelection&#x27;,\n",
              "                 SmartCorrelatedSelection(method=&#x27;spearman&#x27;,\n",
              "                                          selection_method=&#x27;variance&#x27;,\n",
              "                                          threshold=0.6)),\n",
              "                (&#x27;feat_scaling&#x27;, StandardScaler()),\n",
              "                (&#x27;feat_selection&#x27;,\n",
              "                 SelectFromModel(estimator=ExtraTreesRegressor(random_state=0))),\n",
              "                (&#x27;model&#x27;,\n",
              "                 ExtraTreesRegressor(max_features=&#x27;sqrt&#x27;, min_samples_leaf=2,\n",
              "                                     min_samples_split=5, n_estimators=300,\n",
              "                                     random_state=0))])</pre><b>In a Jupyter environment, please rerun this cell to show the HTML representation or trust the notebook. <br />On GitHub, the HTML representation is unable to render, please try loading this page with nbviewer.org.</b></div><div class=\"sk-container\" hidden><div class=\"sk-item sk-dashed-wrapped\"><div class=\"sk-label-container\"><div class=\"sk-label sk-toggleable\"><input class=\"sk-toggleable__control sk-hidden--visually\" id=\"sk-estimator-id-126\" type=\"checkbox\" ><label for=\"sk-estimator-id-126\" class=\"sk-toggleable__label sk-toggleable__label-arrow\">Pipeline</label><div class=\"sk-toggleable__content\"><pre>Pipeline(steps=[(&#x27;OrdinalCategoricalEncoder&#x27;,\n",
              "                 OrdinalEncoder(encoding_method=&#x27;arbitrary&#x27;,\n",
              "                                variables=[&#x27;BsmtExposure&#x27;, &#x27;BsmtFinType1&#x27;,\n",
              "                                           &#x27;GarageFinish&#x27;, &#x27;KitchenQual&#x27;])),\n",
              "                (&#x27;SmartCorrelatedSelection&#x27;,\n",
              "                 SmartCorrelatedSelection(method=&#x27;spearman&#x27;,\n",
              "                                          selection_method=&#x27;variance&#x27;,\n",
              "                                          threshold=0.6)),\n",
              "                (&#x27;feat_scaling&#x27;, StandardScaler()),\n",
              "                (&#x27;feat_selection&#x27;,\n",
              "                 SelectFromModel(estimator=ExtraTreesRegressor(random_state=0))),\n",
              "                (&#x27;model&#x27;,\n",
              "                 ExtraTreesRegressor(max_features=&#x27;sqrt&#x27;, min_samples_leaf=2,\n",
              "                                     min_samples_split=5, n_estimators=300,\n",
              "                                     random_state=0))])</pre></div></div></div><div class=\"sk-serial\"><div class=\"sk-item\"><div class=\"sk-estimator sk-toggleable\"><input class=\"sk-toggleable__control sk-hidden--visually\" id=\"sk-estimator-id-127\" type=\"checkbox\" ><label for=\"sk-estimator-id-127\" class=\"sk-toggleable__label sk-toggleable__label-arrow\">OrdinalEncoder</label><div class=\"sk-toggleable__content\"><pre>OrdinalEncoder(encoding_method=&#x27;arbitrary&#x27;,\n",
              "               variables=[&#x27;BsmtExposure&#x27;, &#x27;BsmtFinType1&#x27;, &#x27;GarageFinish&#x27;,\n",
              "                          &#x27;KitchenQual&#x27;])</pre></div></div></div><div class=\"sk-item\"><div class=\"sk-estimator sk-toggleable\"><input class=\"sk-toggleable__control sk-hidden--visually\" id=\"sk-estimator-id-128\" type=\"checkbox\" ><label for=\"sk-estimator-id-128\" class=\"sk-toggleable__label sk-toggleable__label-arrow\">SmartCorrelatedSelection</label><div class=\"sk-toggleable__content\"><pre>SmartCorrelatedSelection(method=&#x27;spearman&#x27;, selection_method=&#x27;variance&#x27;,\n",
              "                         threshold=0.6)</pre></div></div></div><div class=\"sk-item\"><div class=\"sk-estimator sk-toggleable\"><input class=\"sk-toggleable__control sk-hidden--visually\" id=\"sk-estimator-id-129\" type=\"checkbox\" ><label for=\"sk-estimator-id-129\" class=\"sk-toggleable__label sk-toggleable__label-arrow\">StandardScaler</label><div class=\"sk-toggleable__content\"><pre>StandardScaler()</pre></div></div></div><div class=\"sk-item sk-dashed-wrapped\"><div class=\"sk-label-container\"><div class=\"sk-label sk-toggleable\"><input class=\"sk-toggleable__control sk-hidden--visually\" id=\"sk-estimator-id-130\" type=\"checkbox\" ><label for=\"sk-estimator-id-130\" class=\"sk-toggleable__label sk-toggleable__label-arrow\">feat_selection: SelectFromModel</label><div class=\"sk-toggleable__content\"><pre>SelectFromModel(estimator=ExtraTreesRegressor(random_state=0))</pre></div></div></div><div class=\"sk-parallel\"><div class=\"sk-parallel-item\"><div class=\"sk-item\"><div class=\"sk-label-container\"><div class=\"sk-label sk-toggleable\"><input class=\"sk-toggleable__control sk-hidden--visually\" id=\"sk-estimator-id-131\" type=\"checkbox\" ><label for=\"sk-estimator-id-131\" class=\"sk-toggleable__label sk-toggleable__label-arrow\">estimator: ExtraTreesRegressor</label><div class=\"sk-toggleable__content\"><pre>ExtraTreesRegressor(random_state=0)</pre></div></div></div><div class=\"sk-serial\"><div class=\"sk-item\"><div class=\"sk-estimator sk-toggleable\"><input class=\"sk-toggleable__control sk-hidden--visually\" id=\"sk-estimator-id-132\" type=\"checkbox\" ><label for=\"sk-estimator-id-132\" class=\"sk-toggleable__label sk-toggleable__label-arrow\">ExtraTreesRegressor</label><div class=\"sk-toggleable__content\"><pre>ExtraTreesRegressor(random_state=0)</pre></div></div></div></div></div></div></div></div><div class=\"sk-item\"><div class=\"sk-estimator sk-toggleable\"><input class=\"sk-toggleable__control sk-hidden--visually\" id=\"sk-estimator-id-133\" type=\"checkbox\" ><label for=\"sk-estimator-id-133\" class=\"sk-toggleable__label sk-toggleable__label-arrow\">ExtraTreesRegressor</label><div class=\"sk-toggleable__content\"><pre>ExtraTreesRegressor(max_features=&#x27;sqrt&#x27;, min_samples_leaf=2,\n",
              "                    min_samples_split=5, n_estimators=300, random_state=0)</pre></div></div></div></div></div></div></div>"
            ],
            "text/plain": [
              "Pipeline(steps=[('OrdinalCategoricalEncoder',\n",
              "                 OrdinalEncoder(encoding_method='arbitrary',\n",
              "                                variables=['BsmtExposure', 'BsmtFinType1',\n",
              "                                           'GarageFinish', 'KitchenQual'])),\n",
              "                ('SmartCorrelatedSelection',\n",
              "                 SmartCorrelatedSelection(method='spearman',\n",
              "                                          selection_method='variance',\n",
              "                                          threshold=0.6)),\n",
              "                ('feat_scaling', StandardScaler()),\n",
              "                ('feat_selection',\n",
              "                 SelectFromModel(estimator=ExtraTreesRegressor(random_state=0))),\n",
              "                ('model',\n",
              "                 ExtraTreesRegressor(max_features='sqrt', min_samples_leaf=2,\n",
              "                                     min_samples_split=5, n_estimators=300,\n",
              "                                     random_state=0))])"
            ]
          },
          "execution_count": 267,
          "metadata": {},
          "output_type": "execute_result"
        }
      ],
      "source": [
        "best_regressor_pipeline"
      ]
    },
    {
      "cell_type": "code",
      "execution_count": 269,
      "metadata": {
        "id": "YrZPif2aHdyO"
      },
      "outputs": [
        {
          "data": {
            "text/plain": [
              "['outputs/ml_pipeline/predict_SalePrice/v1/best_regressor_pipeline.pkl']"
            ]
          },
          "execution_count": 269,
          "metadata": {},
          "output_type": "execute_result"
        }
      ],
      "source": [
        "joblib.dump(value=best_regressor_pipeline, filename=f\"{file_path}/best_regressor_pipeline.pkl\")"
      ]
    },
    {
      "cell_type": "markdown",
      "metadata": {
        "id": "tTJlYRC5Q2wJ"
      },
      "source": [
        "## Feature importance plot"
      ]
    },
    {
      "cell_type": "code",
      "execution_count": 270,
      "metadata": {
        "id": "0SfLH05-Q2D8"
      },
      "outputs": [
        {
          "data": {
            "image/png": "[encoded data removed]",
            "text/plain": [
              "<Figure size 640x480 with 1 Axes>"
            ]
          },
          "metadata": {},
          "output_type": "display_data"
        }
      ],
      "source": [
        "df_feature_importance.plot(kind='bar', x='Feature', y='Importance')\n",
        "plt.show()"
      ]
    },
    {
      "cell_type": "code",
      "execution_count": 271,
      "metadata": {
        "id": "R-Hc2H3dQ74Z"
      },
      "outputs": [
        {
          "data": {
            "image/png": "[encoded data removed]",
            "text/plain": [
              "<Figure size 640x480 with 1 Axes>"
            ]
          },
          "metadata": {},
          "output_type": "display_data"
        }
      ],
      "source": [
        "df_feature_importance.plot(kind='bar',x='Feature',y='Importance')\n",
        "plt.savefig(f'{file_path}/features_importance.png', bbox_inches='tight')"
      ]
    },
    {
      "cell_type": "markdown",
      "metadata": {},
      "source": [
        "---"
      ]
    }
  ],
  "metadata": {
    "accelerator": "GPU",
    "colab": {
      "name": "Modeling and Evaluation - Predict Tenure.ipynb",
      "provenance": []
    },
    "kernelspec": {
      "display_name": "3.12.1",
      "language": "python",
      "name": "python3"
    },
    "language_info": {
      "codemirror_mode": {
        "name": "ipython",
        "version": 3
      },
      "file_extension": ".py",
      "mimetype": "text/x-python",
      "name": "python",
      "nbconvert_exporter": "python",
      "pygments_lexer": "ipython3",
      "version": "3.12.1"
    },
    "orig_nbformat": 2
  },
  "nbformat": 4,
  "nbformat_minor": 2
}
